{
 "cells": [
  {
   "cell_type": "markdown",
   "metadata": {},
   "source": [
    "# Sparkify Project Workspace\n",
    "This workspace contains a tiny subset (128MB) of the full dataset available (12GB). Feel free to use this workspace to build your project, or to explore a smaller subset with Spark before deploying your cluster on the cloud. Instructions for setting up your Spark cluster is included in the last lesson of the Extracurricular Spark Course content.\n",
    "\n",
    "You can follow the steps below to guide your data analysis and model building portion of this project."
   ]
  },
  {
   "cell_type": "code",
   "execution_count": 1,
   "metadata": {},
   "outputs": [],
   "source": [
    "# Import libraries\n",
    "import pandas as pd\n",
    "import matplotlib.pyplot as plt\n",
    "import seaborn as sns\n",
    "import datetime\n",
    "from pyspark.sql import SparkSession, Window\n",
    "import pyspark.sql.functions as typ\n",
    "from pyspark.sql.functions import udf, countDistinct, split, count, \\\n",
    "when, sum as ssum, col, last, lit, concat, avg, desc\n",
    "from pyspark.ml.feature import StringIndexer\n",
    "from pyspark.ml.feature import VectorAssembler, StandardScaler\n",
    "from pyspark.ml.classification import LogisticRegression, RandomForestClassifier\n",
    "from pyspark.ml import Pipeline\n",
    "from pyspark.ml.evaluation import  MulticlassClassificationEvaluator\n",
    "from pyspark.ml.tuning import CrossValidator, ParamGridBuilder\n",
    "%matplotlib inline"
   ]
  },
  {
   "cell_type": "code",
   "execution_count": 2,
   "metadata": {},
   "outputs": [],
   "source": [
    "# Create a Spark session\n",
    "spark = SparkSession \\\n",
    "        .builder \\\n",
    "        .appName(\"Sparkify\") \\\n",
    "        .getOrCreate()"
   ]
  },
  {
   "cell_type": "markdown",
   "metadata": {},
   "source": [
    "# Load and Clean Dataset\n",
    "In this workspace, the mini-dataset file is `mini_sparkify_event_data.json`. Load and clean the dataset, checking for invalid or missing data - for example, records without userids or sessionids. "
   ]
  },
  {
   "cell_type": "code",
   "execution_count": 3,
   "metadata": {},
   "outputs": [
    {
     "name": "stdout",
     "output_type": "stream",
     "text": [
      "root\n",
      " |-- artist: string (nullable = true)\n",
      " |-- auth: string (nullable = true)\n",
      " |-- firstName: string (nullable = true)\n",
      " |-- gender: string (nullable = true)\n",
      " |-- itemInSession: long (nullable = true)\n",
      " |-- lastName: string (nullable = true)\n",
      " |-- length: double (nullable = true)\n",
      " |-- level: string (nullable = true)\n",
      " |-- location: string (nullable = true)\n",
      " |-- method: string (nullable = true)\n",
      " |-- page: string (nullable = true)\n",
      " |-- registration: long (nullable = true)\n",
      " |-- sessionId: long (nullable = true)\n",
      " |-- song: string (nullable = true)\n",
      " |-- status: long (nullable = true)\n",
      " |-- ts: long (nullable = true)\n",
      " |-- userAgent: string (nullable = true)\n",
      " |-- userId: string (nullable = true)\n",
      "\n"
     ]
    }
   ],
   "source": [
    "# Load the dataset\n",
    "sparkify_event_data = 'mini_sparkify_event_data.json'\n",
    "df = spark.read.json(sparkify_event_data)\n",
    "df.printSchema()"
   ]
  },
  {
   "cell_type": "code",
   "execution_count": 4,
   "metadata": {},
   "outputs": [
    {
     "data": {
      "text/plain": [
       "(286500, 18)"
      ]
     },
     "execution_count": 4,
     "metadata": {},
     "output_type": "execute_result"
    }
   ],
   "source": [
    "# Find dataset size\n",
    "df.count(), len(df.columns)"
   ]
  },
  {
   "cell_type": "code",
   "execution_count": 5,
   "metadata": {},
   "outputs": [
    {
     "name": "stdout",
     "output_type": "stream",
     "text": [
      "+------+----+---------+------+-------------+--------+------+-----+--------+------+----+------------+---------+-----+------+---+---------+------+\n",
      "|artist|auth|firstName|gender|itemInSession|lastName|length|level|location|method|page|registration|sessionId| song|status| ts|userAgent|userId|\n",
      "+------+----+---------+------+-------------+--------+------+-----+--------+------+----+------------+---------+-----+------+---+---------+------+\n",
      "| 58392|   0|     8346|  8346|            0|    8346| 58392|    0|    8346|     0|   0|        8346|        0|58392|     0|  0|     8346|     0|\n",
      "+------+----+---------+------+-------------+--------+------+-----+--------+------+----+------------+---------+-----+------+---+---------+------+\n",
      "\n"
     ]
    }
   ],
   "source": [
    "# Count null values by columns\n",
    "df_nulls = df.select([typ.count(typ.when(typ.isnull(c), c)).alias(c) for c in df.columns])\n",
    "df_nulls.show()"
   ]
  },
  {
   "cell_type": "markdown",
   "metadata": {},
   "source": [
    "There is a clear split of missing data, some events where the artist, song and length is missing. Firstly i will analyse this data to see if it is valid."
   ]
  },
  {
   "cell_type": "code",
   "execution_count": 6,
   "metadata": {},
   "outputs": [
    {
     "data": {
      "text/plain": [
       "[Row(artist='Martha Tilston', auth='Logged In', firstName='Colin', gender='M', itemInSession=50, lastName='Freeman', length=277.89016, level='paid', location='Bakersfield, CA', method='PUT', page='NextSong', registration=1538173362000, sessionId=29, song='Rockpools', status=200, ts=1538352117000, userAgent='Mozilla/5.0 (Windows NT 6.1; WOW64; rv:31.0) Gecko/20100101 Firefox/31.0', userId='30'),\n",
       " Row(artist='Five Iron Frenzy', auth='Logged In', firstName='Micah', gender='M', itemInSession=79, lastName='Long', length=236.09424, level='free', location='Boston-Cambridge-Newton, MA-NH', method='PUT', page='NextSong', registration=1538331630000, sessionId=8, song='Canada', status=200, ts=1538352180000, userAgent='\"Mozilla/5.0 (Windows NT 6.1; WOW64) AppleWebKit/537.36 (KHTML, like Gecko) Chrome/37.0.2062.103 Safari/537.36\"', userId='9')]"
      ]
     },
     "execution_count": 6,
     "metadata": {},
     "output_type": "execute_result"
    }
   ],
   "source": [
    "# Visualise data\n",
    "df.take(2)"
   ]
  },
  {
   "cell_type": "code",
   "execution_count": 7,
   "metadata": {},
   "outputs": [
    {
     "data": {
      "text/html": [
       "<div>\n",
       "<style scoped>\n",
       "    .dataframe tbody tr th:only-of-type {\n",
       "        vertical-align: middle;\n",
       "    }\n",
       "\n",
       "    .dataframe tbody tr th {\n",
       "        vertical-align: top;\n",
       "    }\n",
       "\n",
       "    .dataframe thead th {\n",
       "        text-align: right;\n",
       "    }\n",
       "</style>\n",
       "<table border=\"1\" class=\"dataframe\">\n",
       "  <thead>\n",
       "    <tr style=\"text-align: right;\">\n",
       "      <th></th>\n",
       "      <th>artist</th>\n",
       "      <th>auth</th>\n",
       "      <th>firstName</th>\n",
       "      <th>gender</th>\n",
       "      <th>itemInSession</th>\n",
       "      <th>lastName</th>\n",
       "      <th>length</th>\n",
       "      <th>level</th>\n",
       "      <th>location</th>\n",
       "      <th>method</th>\n",
       "      <th>page</th>\n",
       "      <th>registration</th>\n",
       "      <th>sessionId</th>\n",
       "      <th>song</th>\n",
       "      <th>status</th>\n",
       "      <th>ts</th>\n",
       "      <th>userAgent</th>\n",
       "      <th>userId</th>\n",
       "    </tr>\n",
       "  </thead>\n",
       "  <tbody>\n",
       "    <tr>\n",
       "      <th>0</th>\n",
       "      <td>Martha Tilston</td>\n",
       "      <td>Logged In</td>\n",
       "      <td>Colin</td>\n",
       "      <td>M</td>\n",
       "      <td>50</td>\n",
       "      <td>Freeman</td>\n",
       "      <td>277.89016</td>\n",
       "      <td>paid</td>\n",
       "      <td>Bakersfield, CA</td>\n",
       "      <td>PUT</td>\n",
       "      <td>NextSong</td>\n",
       "      <td>1.538173e+12</td>\n",
       "      <td>29</td>\n",
       "      <td>Rockpools</td>\n",
       "      <td>200</td>\n",
       "      <td>1538352117000</td>\n",
       "      <td>Mozilla/5.0 (Windows NT 6.1; WOW64; rv:31.0) G...</td>\n",
       "      <td>30</td>\n",
       "    </tr>\n",
       "    <tr>\n",
       "      <th>1</th>\n",
       "      <td>Five Iron Frenzy</td>\n",
       "      <td>Logged In</td>\n",
       "      <td>Micah</td>\n",
       "      <td>M</td>\n",
       "      <td>79</td>\n",
       "      <td>Long</td>\n",
       "      <td>236.09424</td>\n",
       "      <td>free</td>\n",
       "      <td>Boston-Cambridge-Newton, MA-NH</td>\n",
       "      <td>PUT</td>\n",
       "      <td>NextSong</td>\n",
       "      <td>1.538332e+12</td>\n",
       "      <td>8</td>\n",
       "      <td>Canada</td>\n",
       "      <td>200</td>\n",
       "      <td>1538352180000</td>\n",
       "      <td>\"Mozilla/5.0 (Windows NT 6.1; WOW64) AppleWebK...</td>\n",
       "      <td>9</td>\n",
       "    </tr>\n",
       "    <tr>\n",
       "      <th>2</th>\n",
       "      <td>Adam Lambert</td>\n",
       "      <td>Logged In</td>\n",
       "      <td>Colin</td>\n",
       "      <td>M</td>\n",
       "      <td>51</td>\n",
       "      <td>Freeman</td>\n",
       "      <td>282.82730</td>\n",
       "      <td>paid</td>\n",
       "      <td>Bakersfield, CA</td>\n",
       "      <td>PUT</td>\n",
       "      <td>NextSong</td>\n",
       "      <td>1.538173e+12</td>\n",
       "      <td>29</td>\n",
       "      <td>Time For Miracles</td>\n",
       "      <td>200</td>\n",
       "      <td>1538352394000</td>\n",
       "      <td>Mozilla/5.0 (Windows NT 6.1; WOW64; rv:31.0) G...</td>\n",
       "      <td>30</td>\n",
       "    </tr>\n",
       "    <tr>\n",
       "      <th>3</th>\n",
       "      <td>Enigma</td>\n",
       "      <td>Logged In</td>\n",
       "      <td>Micah</td>\n",
       "      <td>M</td>\n",
       "      <td>80</td>\n",
       "      <td>Long</td>\n",
       "      <td>262.71302</td>\n",
       "      <td>free</td>\n",
       "      <td>Boston-Cambridge-Newton, MA-NH</td>\n",
       "      <td>PUT</td>\n",
       "      <td>NextSong</td>\n",
       "      <td>1.538332e+12</td>\n",
       "      <td>8</td>\n",
       "      <td>Knocking On Forbidden Doors</td>\n",
       "      <td>200</td>\n",
       "      <td>1538352416000</td>\n",
       "      <td>\"Mozilla/5.0 (Windows NT 6.1; WOW64) AppleWebK...</td>\n",
       "      <td>9</td>\n",
       "    </tr>\n",
       "    <tr>\n",
       "      <th>4</th>\n",
       "      <td>Daft Punk</td>\n",
       "      <td>Logged In</td>\n",
       "      <td>Colin</td>\n",
       "      <td>M</td>\n",
       "      <td>52</td>\n",
       "      <td>Freeman</td>\n",
       "      <td>223.60771</td>\n",
       "      <td>paid</td>\n",
       "      <td>Bakersfield, CA</td>\n",
       "      <td>PUT</td>\n",
       "      <td>NextSong</td>\n",
       "      <td>1.538173e+12</td>\n",
       "      <td>29</td>\n",
       "      <td>Harder Better Faster Stronger</td>\n",
       "      <td>200</td>\n",
       "      <td>1538352676000</td>\n",
       "      <td>Mozilla/5.0 (Windows NT 6.1; WOW64; rv:31.0) G...</td>\n",
       "      <td>30</td>\n",
       "    </tr>\n",
       "    <tr>\n",
       "      <th>5</th>\n",
       "      <td>The All-American Rejects</td>\n",
       "      <td>Logged In</td>\n",
       "      <td>Micah</td>\n",
       "      <td>M</td>\n",
       "      <td>81</td>\n",
       "      <td>Long</td>\n",
       "      <td>208.29995</td>\n",
       "      <td>free</td>\n",
       "      <td>Boston-Cambridge-Newton, MA-NH</td>\n",
       "      <td>PUT</td>\n",
       "      <td>NextSong</td>\n",
       "      <td>1.538332e+12</td>\n",
       "      <td>8</td>\n",
       "      <td>Don't Leave Me</td>\n",
       "      <td>200</td>\n",
       "      <td>1538352678000</td>\n",
       "      <td>\"Mozilla/5.0 (Windows NT 6.1; WOW64) AppleWebK...</td>\n",
       "      <td>9</td>\n",
       "    </tr>\n",
       "    <tr>\n",
       "      <th>6</th>\n",
       "      <td>The Velvet Underground / Nico</td>\n",
       "      <td>Logged In</td>\n",
       "      <td>Micah</td>\n",
       "      <td>M</td>\n",
       "      <td>82</td>\n",
       "      <td>Long</td>\n",
       "      <td>260.46649</td>\n",
       "      <td>free</td>\n",
       "      <td>Boston-Cambridge-Newton, MA-NH</td>\n",
       "      <td>PUT</td>\n",
       "      <td>NextSong</td>\n",
       "      <td>1.538332e+12</td>\n",
       "      <td>8</td>\n",
       "      <td>Run Run Run</td>\n",
       "      <td>200</td>\n",
       "      <td>1538352886000</td>\n",
       "      <td>\"Mozilla/5.0 (Windows NT 6.1; WOW64) AppleWebK...</td>\n",
       "      <td>9</td>\n",
       "    </tr>\n",
       "    <tr>\n",
       "      <th>7</th>\n",
       "      <td>Starflyer 59</td>\n",
       "      <td>Logged In</td>\n",
       "      <td>Colin</td>\n",
       "      <td>M</td>\n",
       "      <td>53</td>\n",
       "      <td>Freeman</td>\n",
       "      <td>185.44281</td>\n",
       "      <td>paid</td>\n",
       "      <td>Bakersfield, CA</td>\n",
       "      <td>PUT</td>\n",
       "      <td>NextSong</td>\n",
       "      <td>1.538173e+12</td>\n",
       "      <td>29</td>\n",
       "      <td>Passengers (Old Album Version)</td>\n",
       "      <td>200</td>\n",
       "      <td>1538352899000</td>\n",
       "      <td>Mozilla/5.0 (Windows NT 6.1; WOW64; rv:31.0) G...</td>\n",
       "      <td>30</td>\n",
       "    </tr>\n",
       "    <tr>\n",
       "      <th>8</th>\n",
       "      <td>None</td>\n",
       "      <td>Logged In</td>\n",
       "      <td>Colin</td>\n",
       "      <td>M</td>\n",
       "      <td>54</td>\n",
       "      <td>Freeman</td>\n",
       "      <td>NaN</td>\n",
       "      <td>paid</td>\n",
       "      <td>Bakersfield, CA</td>\n",
       "      <td>PUT</td>\n",
       "      <td>Add to Playlist</td>\n",
       "      <td>1.538173e+12</td>\n",
       "      <td>29</td>\n",
       "      <td>None</td>\n",
       "      <td>200</td>\n",
       "      <td>1538352905000</td>\n",
       "      <td>Mozilla/5.0 (Windows NT 6.1; WOW64; rv:31.0) G...</td>\n",
       "      <td>30</td>\n",
       "    </tr>\n",
       "    <tr>\n",
       "      <th>9</th>\n",
       "      <td>Frumpies</td>\n",
       "      <td>Logged In</td>\n",
       "      <td>Colin</td>\n",
       "      <td>M</td>\n",
       "      <td>55</td>\n",
       "      <td>Freeman</td>\n",
       "      <td>134.47791</td>\n",
       "      <td>paid</td>\n",
       "      <td>Bakersfield, CA</td>\n",
       "      <td>PUT</td>\n",
       "      <td>NextSong</td>\n",
       "      <td>1.538173e+12</td>\n",
       "      <td>29</td>\n",
       "      <td>Fuck Kitty</td>\n",
       "      <td>200</td>\n",
       "      <td>1538353084000</td>\n",
       "      <td>Mozilla/5.0 (Windows NT 6.1; WOW64; rv:31.0) G...</td>\n",
       "      <td>30</td>\n",
       "    </tr>\n",
       "  </tbody>\n",
       "</table>\n",
       "</div>"
      ],
      "text/plain": [
       "                          artist       auth firstName gender  itemInSession  \\\n",
       "0                 Martha Tilston  Logged In     Colin      M             50   \n",
       "1               Five Iron Frenzy  Logged In     Micah      M             79   \n",
       "2                   Adam Lambert  Logged In     Colin      M             51   \n",
       "3                         Enigma  Logged In     Micah      M             80   \n",
       "4                      Daft Punk  Logged In     Colin      M             52   \n",
       "5       The All-American Rejects  Logged In     Micah      M             81   \n",
       "6  The Velvet Underground / Nico  Logged In     Micah      M             82   \n",
       "7                   Starflyer 59  Logged In     Colin      M             53   \n",
       "8                           None  Logged In     Colin      M             54   \n",
       "9                       Frumpies  Logged In     Colin      M             55   \n",
       "\n",
       "  lastName     length level                        location method  \\\n",
       "0  Freeman  277.89016  paid                 Bakersfield, CA    PUT   \n",
       "1     Long  236.09424  free  Boston-Cambridge-Newton, MA-NH    PUT   \n",
       "2  Freeman  282.82730  paid                 Bakersfield, CA    PUT   \n",
       "3     Long  262.71302  free  Boston-Cambridge-Newton, MA-NH    PUT   \n",
       "4  Freeman  223.60771  paid                 Bakersfield, CA    PUT   \n",
       "5     Long  208.29995  free  Boston-Cambridge-Newton, MA-NH    PUT   \n",
       "6     Long  260.46649  free  Boston-Cambridge-Newton, MA-NH    PUT   \n",
       "7  Freeman  185.44281  paid                 Bakersfield, CA    PUT   \n",
       "8  Freeman        NaN  paid                 Bakersfield, CA    PUT   \n",
       "9  Freeman  134.47791  paid                 Bakersfield, CA    PUT   \n",
       "\n",
       "              page  registration  sessionId                            song  \\\n",
       "0         NextSong  1.538173e+12         29                       Rockpools   \n",
       "1         NextSong  1.538332e+12          8                          Canada   \n",
       "2         NextSong  1.538173e+12         29               Time For Miracles   \n",
       "3         NextSong  1.538332e+12          8     Knocking On Forbidden Doors   \n",
       "4         NextSong  1.538173e+12         29   Harder Better Faster Stronger   \n",
       "5         NextSong  1.538332e+12          8                  Don't Leave Me   \n",
       "6         NextSong  1.538332e+12          8                     Run Run Run   \n",
       "7         NextSong  1.538173e+12         29  Passengers (Old Album Version)   \n",
       "8  Add to Playlist  1.538173e+12         29                            None   \n",
       "9         NextSong  1.538173e+12         29                      Fuck Kitty   \n",
       "\n",
       "   status             ts                                          userAgent  \\\n",
       "0     200  1538352117000  Mozilla/5.0 (Windows NT 6.1; WOW64; rv:31.0) G...   \n",
       "1     200  1538352180000  \"Mozilla/5.0 (Windows NT 6.1; WOW64) AppleWebK...   \n",
       "2     200  1538352394000  Mozilla/5.0 (Windows NT 6.1; WOW64; rv:31.0) G...   \n",
       "3     200  1538352416000  \"Mozilla/5.0 (Windows NT 6.1; WOW64) AppleWebK...   \n",
       "4     200  1538352676000  Mozilla/5.0 (Windows NT 6.1; WOW64; rv:31.0) G...   \n",
       "5     200  1538352678000  \"Mozilla/5.0 (Windows NT 6.1; WOW64) AppleWebK...   \n",
       "6     200  1538352886000  \"Mozilla/5.0 (Windows NT 6.1; WOW64) AppleWebK...   \n",
       "7     200  1538352899000  Mozilla/5.0 (Windows NT 6.1; WOW64; rv:31.0) G...   \n",
       "8     200  1538352905000  Mozilla/5.0 (Windows NT 6.1; WOW64; rv:31.0) G...   \n",
       "9     200  1538353084000  Mozilla/5.0 (Windows NT 6.1; WOW64; rv:31.0) G...   \n",
       "\n",
       "  userId  \n",
       "0     30  \n",
       "1      9  \n",
       "2     30  \n",
       "3      9  \n",
       "4     30  \n",
       "5      9  \n",
       "6      9  \n",
       "7     30  \n",
       "8     30  \n",
       "9     30  "
      ]
     },
     "execution_count": 7,
     "metadata": {},
     "output_type": "execute_result"
    }
   ],
   "source": [
    "# View data as pandas dataframe to get familiar view of dataset.\n",
    "df_pandas = df.toPandas()\n",
    "df_pandas.head(n=10)"
   ]
  },
  {
   "cell_type": "code",
   "execution_count": 8,
   "metadata": {},
   "outputs": [
    {
     "data": {
      "text/html": [
       "<div>\n",
       "<style scoped>\n",
       "    .dataframe tbody tr th:only-of-type {\n",
       "        vertical-align: middle;\n",
       "    }\n",
       "\n",
       "    .dataframe tbody tr th {\n",
       "        vertical-align: top;\n",
       "    }\n",
       "\n",
       "    .dataframe thead th {\n",
       "        text-align: right;\n",
       "    }\n",
       "</style>\n",
       "<table border=\"1\" class=\"dataframe\">\n",
       "  <thead>\n",
       "    <tr style=\"text-align: right;\">\n",
       "      <th></th>\n",
       "      <th>artist</th>\n",
       "      <th>auth</th>\n",
       "      <th>firstName</th>\n",
       "      <th>gender</th>\n",
       "      <th>itemInSession</th>\n",
       "      <th>lastName</th>\n",
       "      <th>length</th>\n",
       "      <th>level</th>\n",
       "      <th>location</th>\n",
       "      <th>method</th>\n",
       "      <th>page</th>\n",
       "      <th>registration</th>\n",
       "      <th>sessionId</th>\n",
       "      <th>song</th>\n",
       "      <th>status</th>\n",
       "      <th>ts</th>\n",
       "      <th>userAgent</th>\n",
       "      <th>userId</th>\n",
       "    </tr>\n",
       "  </thead>\n",
       "  <tbody>\n",
       "    <tr>\n",
       "      <th>8</th>\n",
       "      <td>None</td>\n",
       "      <td>Logged In</td>\n",
       "      <td>Colin</td>\n",
       "      <td>M</td>\n",
       "      <td>54</td>\n",
       "      <td>Freeman</td>\n",
       "      <td>NaN</td>\n",
       "      <td>paid</td>\n",
       "      <td>Bakersfield, CA</td>\n",
       "      <td>PUT</td>\n",
       "      <td>Add to Playlist</td>\n",
       "      <td>1.538173e+12</td>\n",
       "      <td>29</td>\n",
       "      <td>None</td>\n",
       "      <td>200</td>\n",
       "      <td>1538352905000</td>\n",
       "      <td>Mozilla/5.0 (Windows NT 6.1; WOW64; rv:31.0) G...</td>\n",
       "      <td>30</td>\n",
       "    </tr>\n",
       "    <tr>\n",
       "      <th>11</th>\n",
       "      <td>None</td>\n",
       "      <td>Logged In</td>\n",
       "      <td>Micah</td>\n",
       "      <td>M</td>\n",
       "      <td>84</td>\n",
       "      <td>Long</td>\n",
       "      <td>NaN</td>\n",
       "      <td>free</td>\n",
       "      <td>Boston-Cambridge-Newton, MA-NH</td>\n",
       "      <td>GET</td>\n",
       "      <td>Roll Advert</td>\n",
       "      <td>1.538332e+12</td>\n",
       "      <td>8</td>\n",
       "      <td>None</td>\n",
       "      <td>200</td>\n",
       "      <td>1538353150000</td>\n",
       "      <td>\"Mozilla/5.0 (Windows NT 6.1; WOW64) AppleWebK...</td>\n",
       "      <td>9</td>\n",
       "    </tr>\n",
       "    <tr>\n",
       "      <th>14</th>\n",
       "      <td>None</td>\n",
       "      <td>Logged In</td>\n",
       "      <td>Micah</td>\n",
       "      <td>M</td>\n",
       "      <td>86</td>\n",
       "      <td>Long</td>\n",
       "      <td>NaN</td>\n",
       "      <td>free</td>\n",
       "      <td>Boston-Cambridge-Newton, MA-NH</td>\n",
       "      <td>PUT</td>\n",
       "      <td>Thumbs Up</td>\n",
       "      <td>1.538332e+12</td>\n",
       "      <td>8</td>\n",
       "      <td>None</td>\n",
       "      <td>307</td>\n",
       "      <td>1538353376000</td>\n",
       "      <td>\"Mozilla/5.0 (Windows NT 6.1; WOW64) AppleWebK...</td>\n",
       "      <td>9</td>\n",
       "    </tr>\n",
       "    <tr>\n",
       "      <th>35</th>\n",
       "      <td>None</td>\n",
       "      <td>Logged In</td>\n",
       "      <td>Alexi</td>\n",
       "      <td>F</td>\n",
       "      <td>4</td>\n",
       "      <td>Warren</td>\n",
       "      <td>NaN</td>\n",
       "      <td>paid</td>\n",
       "      <td>Spokane-Spokane Valley, WA</td>\n",
       "      <td>GET</td>\n",
       "      <td>Downgrade</td>\n",
       "      <td>1.532483e+12</td>\n",
       "      <td>53</td>\n",
       "      <td>None</td>\n",
       "      <td>200</td>\n",
       "      <td>1538354749000</td>\n",
       "      <td>Mozilla/5.0 (Windows NT 6.1; WOW64; rv:32.0) G...</td>\n",
       "      <td>54</td>\n",
       "    </tr>\n",
       "    <tr>\n",
       "      <th>44</th>\n",
       "      <td>None</td>\n",
       "      <td>Logged In</td>\n",
       "      <td>Alexi</td>\n",
       "      <td>F</td>\n",
       "      <td>7</td>\n",
       "      <td>Warren</td>\n",
       "      <td>NaN</td>\n",
       "      <td>paid</td>\n",
       "      <td>Spokane-Spokane Valley, WA</td>\n",
       "      <td>PUT</td>\n",
       "      <td>Thumbs Up</td>\n",
       "      <td>1.532483e+12</td>\n",
       "      <td>53</td>\n",
       "      <td>None</td>\n",
       "      <td>307</td>\n",
       "      <td>1538355255000</td>\n",
       "      <td>Mozilla/5.0 (Windows NT 6.1; WOW64; rv:32.0) G...</td>\n",
       "      <td>54</td>\n",
       "    </tr>\n",
       "  </tbody>\n",
       "</table>\n",
       "</div>"
      ],
      "text/plain": [
       "   artist       auth firstName gender  itemInSession lastName  length level  \\\n",
       "8    None  Logged In     Colin      M             54  Freeman     NaN  paid   \n",
       "11   None  Logged In     Micah      M             84     Long     NaN  free   \n",
       "14   None  Logged In     Micah      M             86     Long     NaN  free   \n",
       "35   None  Logged In     Alexi      F              4   Warren     NaN  paid   \n",
       "44   None  Logged In     Alexi      F              7   Warren     NaN  paid   \n",
       "\n",
       "                          location method             page  registration  \\\n",
       "8                  Bakersfield, CA    PUT  Add to Playlist  1.538173e+12   \n",
       "11  Boston-Cambridge-Newton, MA-NH    GET      Roll Advert  1.538332e+12   \n",
       "14  Boston-Cambridge-Newton, MA-NH    PUT        Thumbs Up  1.538332e+12   \n",
       "35      Spokane-Spokane Valley, WA    GET        Downgrade  1.532483e+12   \n",
       "44      Spokane-Spokane Valley, WA    PUT        Thumbs Up  1.532483e+12   \n",
       "\n",
       "    sessionId  song  status             ts  \\\n",
       "8          29  None     200  1538352905000   \n",
       "11          8  None     200  1538353150000   \n",
       "14          8  None     307  1538353376000   \n",
       "35         53  None     200  1538354749000   \n",
       "44         53  None     307  1538355255000   \n",
       "\n",
       "                                            userAgent userId  \n",
       "8   Mozilla/5.0 (Windows NT 6.1; WOW64; rv:31.0) G...     30  \n",
       "11  \"Mozilla/5.0 (Windows NT 6.1; WOW64) AppleWebK...      9  \n",
       "14  \"Mozilla/5.0 (Windows NT 6.1; WOW64) AppleWebK...      9  \n",
       "35  Mozilla/5.0 (Windows NT 6.1; WOW64; rv:32.0) G...     54  \n",
       "44  Mozilla/5.0 (Windows NT 6.1; WOW64; rv:32.0) G...     54  "
      ]
     },
     "execution_count": 8,
     "metadata": {},
     "output_type": "execute_result"
    }
   ],
   "source": [
    "# Display data header where the artist column is null/none\n",
    "artist_nulls = df_pandas[df_pandas['artist'].isnull()]\n",
    "artist_nulls.head()"
   ]
  },
  {
   "cell_type": "markdown",
   "metadata": {},
   "source": [
    "Here, these values are null because the event or 'page' column indicates a different event to \"NextSong\" such as \"Roll Advert\" or \"Downgrade\""
   ]
  },
  {
   "cell_type": "markdown",
   "metadata": {},
   "source": [
    "Secondly there are 8346 records missing where the firstName, lastName, gender, location, registration and userAgent is missing. Here i will review this data to see if it needs cleaning."
   ]
  },
  {
   "cell_type": "code",
   "execution_count": 9,
   "metadata": {},
   "outputs": [
    {
     "data": {
      "text/html": [
       "<div>\n",
       "<style scoped>\n",
       "    .dataframe tbody tr th:only-of-type {\n",
       "        vertical-align: middle;\n",
       "    }\n",
       "\n",
       "    .dataframe tbody tr th {\n",
       "        vertical-align: top;\n",
       "    }\n",
       "\n",
       "    .dataframe thead th {\n",
       "        text-align: right;\n",
       "    }\n",
       "</style>\n",
       "<table border=\"1\" class=\"dataframe\">\n",
       "  <thead>\n",
       "    <tr style=\"text-align: right;\">\n",
       "      <th></th>\n",
       "      <th>artist</th>\n",
       "      <th>auth</th>\n",
       "      <th>firstName</th>\n",
       "      <th>gender</th>\n",
       "      <th>itemInSession</th>\n",
       "      <th>lastName</th>\n",
       "      <th>length</th>\n",
       "      <th>level</th>\n",
       "      <th>location</th>\n",
       "      <th>method</th>\n",
       "      <th>page</th>\n",
       "      <th>registration</th>\n",
       "      <th>sessionId</th>\n",
       "      <th>song</th>\n",
       "      <th>status</th>\n",
       "      <th>ts</th>\n",
       "      <th>userAgent</th>\n",
       "      <th>userId</th>\n",
       "    </tr>\n",
       "  </thead>\n",
       "  <tbody>\n",
       "    <tr>\n",
       "      <th>57</th>\n",
       "      <td>None</td>\n",
       "      <td>Logged Out</td>\n",
       "      <td>None</td>\n",
       "      <td>None</td>\n",
       "      <td>100</td>\n",
       "      <td>None</td>\n",
       "      <td>NaN</td>\n",
       "      <td>free</td>\n",
       "      <td>None</td>\n",
       "      <td>GET</td>\n",
       "      <td>Home</td>\n",
       "      <td>NaN</td>\n",
       "      <td>8</td>\n",
       "      <td>None</td>\n",
       "      <td>200</td>\n",
       "      <td>1538355745000</td>\n",
       "      <td>None</td>\n",
       "      <td></td>\n",
       "    </tr>\n",
       "    <tr>\n",
       "      <th>58</th>\n",
       "      <td>None</td>\n",
       "      <td>Logged Out</td>\n",
       "      <td>None</td>\n",
       "      <td>None</td>\n",
       "      <td>101</td>\n",
       "      <td>None</td>\n",
       "      <td>NaN</td>\n",
       "      <td>free</td>\n",
       "      <td>None</td>\n",
       "      <td>GET</td>\n",
       "      <td>Help</td>\n",
       "      <td>NaN</td>\n",
       "      <td>8</td>\n",
       "      <td>None</td>\n",
       "      <td>200</td>\n",
       "      <td>1538355807000</td>\n",
       "      <td>None</td>\n",
       "      <td></td>\n",
       "    </tr>\n",
       "    <tr>\n",
       "      <th>59</th>\n",
       "      <td>None</td>\n",
       "      <td>Logged Out</td>\n",
       "      <td>None</td>\n",
       "      <td>None</td>\n",
       "      <td>102</td>\n",
       "      <td>None</td>\n",
       "      <td>NaN</td>\n",
       "      <td>free</td>\n",
       "      <td>None</td>\n",
       "      <td>GET</td>\n",
       "      <td>Home</td>\n",
       "      <td>NaN</td>\n",
       "      <td>8</td>\n",
       "      <td>None</td>\n",
       "      <td>200</td>\n",
       "      <td>1538355841000</td>\n",
       "      <td>None</td>\n",
       "      <td></td>\n",
       "    </tr>\n",
       "    <tr>\n",
       "      <th>60</th>\n",
       "      <td>None</td>\n",
       "      <td>Logged Out</td>\n",
       "      <td>None</td>\n",
       "      <td>None</td>\n",
       "      <td>103</td>\n",
       "      <td>None</td>\n",
       "      <td>NaN</td>\n",
       "      <td>free</td>\n",
       "      <td>None</td>\n",
       "      <td>PUT</td>\n",
       "      <td>Login</td>\n",
       "      <td>NaN</td>\n",
       "      <td>8</td>\n",
       "      <td>None</td>\n",
       "      <td>307</td>\n",
       "      <td>1538355842000</td>\n",
       "      <td>None</td>\n",
       "      <td></td>\n",
       "    </tr>\n",
       "    <tr>\n",
       "      <th>76</th>\n",
       "      <td>None</td>\n",
       "      <td>Logged Out</td>\n",
       "      <td>None</td>\n",
       "      <td>None</td>\n",
       "      <td>2</td>\n",
       "      <td>None</td>\n",
       "      <td>NaN</td>\n",
       "      <td>free</td>\n",
       "      <td>None</td>\n",
       "      <td>GET</td>\n",
       "      <td>Home</td>\n",
       "      <td>NaN</td>\n",
       "      <td>240</td>\n",
       "      <td>None</td>\n",
       "      <td>200</td>\n",
       "      <td>1538356678000</td>\n",
       "      <td>None</td>\n",
       "      <td></td>\n",
       "    </tr>\n",
       "  </tbody>\n",
       "</table>\n",
       "</div>"
      ],
      "text/plain": [
       "   artist        auth firstName gender  itemInSession lastName  length level  \\\n",
       "57   None  Logged Out      None   None            100     None     NaN  free   \n",
       "58   None  Logged Out      None   None            101     None     NaN  free   \n",
       "59   None  Logged Out      None   None            102     None     NaN  free   \n",
       "60   None  Logged Out      None   None            103     None     NaN  free   \n",
       "76   None  Logged Out      None   None              2     None     NaN  free   \n",
       "\n",
       "   location method   page  registration  sessionId  song  status  \\\n",
       "57     None    GET   Home           NaN          8  None     200   \n",
       "58     None    GET   Help           NaN          8  None     200   \n",
       "59     None    GET   Home           NaN          8  None     200   \n",
       "60     None    PUT  Login           NaN          8  None     307   \n",
       "76     None    GET   Home           NaN        240  None     200   \n",
       "\n",
       "               ts userAgent userId  \n",
       "57  1538355745000      None         \n",
       "58  1538355807000      None         \n",
       "59  1538355841000      None         \n",
       "60  1538355842000      None         \n",
       "76  1538356678000      None         "
      ]
     },
     "execution_count": 9,
     "metadata": {},
     "output_type": "execute_result"
    }
   ],
   "source": [
    "# Display data header where the firstName column is null/none\n",
    "other_nulls = df_pandas[df_pandas['firstName'].isnull()]\n",
    "other_nulls.head()"
   ]
  },
  {
   "cell_type": "code",
   "execution_count": 10,
   "metadata": {},
   "outputs": [
    {
     "data": {
      "text/plain": [
       "auth\n",
       "Guest           97\n",
       "Logged Out    8249\n",
       "Name: auth, dtype: int64"
      ]
     },
     "execution_count": 10,
     "metadata": {},
     "output_type": "execute_result"
    }
   ],
   "source": [
    "# Identify column content from auth\n",
    "other_nulls.groupby('auth')['auth'].count()"
   ]
  },
  {
   "cell_type": "markdown",
   "metadata": {},
   "source": [
    "Dataset in the initial view appears to be clean and shows separation where null values are for specific events. We should bare this in mind when defining the churn criteria. This does not have any indicator to which user so these events would not be required in the dataset."
   ]
  },
  {
   "cell_type": "markdown",
   "metadata": {},
   "source": [
    "Final check is to review if there are any duplicate entries."
   ]
  },
  {
   "cell_type": "code",
   "execution_count": 11,
   "metadata": {},
   "outputs": [
    {
     "data": {
      "text/plain": [
       "0"
      ]
     },
     "execution_count": 11,
     "metadata": {},
     "output_type": "execute_result"
    }
   ],
   "source": [
    "# Check number of duplicates\n",
    "df_pandas.duplicated().sum()"
   ]
  },
  {
   "cell_type": "markdown",
   "metadata": {},
   "source": [
    "In summary, the only data that needs cleaning is to remove rows where the userId is blank."
   ]
  },
  {
   "cell_type": "code",
   "execution_count": 12,
   "metadata": {},
   "outputs": [],
   "source": [
    "# Function for cleaning data\n",
    "def clean_data(df):\n",
    "    '''\n",
    "    Cleans dataset to remove null values where the userId is blank and drop any duplicates.\n",
    "    '''\n",
    "    df = df.filter(df[\"userId\"] != \"\")\n",
    "    df = df.dropDuplicates()\n",
    "    return df"
   ]
  },
  {
   "cell_type": "code",
   "execution_count": 13,
   "metadata": {},
   "outputs": [],
   "source": [
    "# Run function\n",
    "clean_data = clean_data(df)"
   ]
  },
  {
   "cell_type": "code",
   "execution_count": 14,
   "metadata": {},
   "outputs": [
    {
     "data": {
      "text/plain": [
       "(278154, 18)"
      ]
     },
     "execution_count": 14,
     "metadata": {},
     "output_type": "execute_result"
    }
   ],
   "source": [
    "# Identify new data siza - Expected = original 286500 - 8346 missing records (278154)\n",
    "clean_data.count(), len(clean_data.columns)"
   ]
  },
  {
   "cell_type": "markdown",
   "metadata": {},
   "source": [
    "# Exploratory Data Analysis\n",
    "When you're working with the full dataset, perform EDA by loading a small subset of the data and doing basic manipulations within Spark. In this workspace, you are already provided a small subset of data you can explore.\n",
    "\n",
    "### Define Churn\n",
    "\n",
    "Once you've done some preliminary analysis, create a column `Churn` to use as the label for your model. I suggest using the `Cancellation Confirmation` events to define your churn, which happen for both paid and free users. As a bonus task, you can also look into the `Downgrade` events.\n",
    "\n",
    "### Explore Data\n",
    "Once you've defined churn, perform some exploratory data analysis to observe the behavior for users who stayed vs users who churned. You can start by exploring aggregates on these two groups of users, observing how much of a specific action they experienced per a certain time unit or number of songs played."
   ]
  },
  {
   "cell_type": "markdown",
   "metadata": {},
   "source": [
    "------------------------\n",
    "### Initial Data Exploration Approach\n",
    "\n",
    "Initially i will carry out a rough exploration of the data to get a feel for how the data is presented and whether any features need to be engineered to help define the churn. I will do this by addressing the following:\n",
    "\n",
    "- 1) Understand the data accross a time range, so firstly find the timespan of the dataset.\n",
    "- 2) Identify how many users are in the dataset.\n",
    "- 3) Any key correlations between users (in terms of gender), location and type of account (paid or free).\n",
    "- 4) Typical usage (times of day etc...)."
   ]
  },
  {
   "cell_type": "code",
   "execution_count": 15,
   "metadata": {},
   "outputs": [],
   "source": [
    "# Convert time stamp to a readable format for both ts and registration\n",
    "\n",
    "# Full date & time string\n",
    "convert_ts = udf(lambda x: datetime.datetime.fromtimestamp(x / 1000.0).strftime(\"%Y-%m-%d %H:%M:%S\"))\n",
    "# Hour of day\n",
    "convert_ts_hr = udf(lambda x: datetime.datetime.fromtimestamp(x / 1000.0).strftime(\"%Y-%m-%d %H\"))\n",
    "# Apply iterations\n",
    "df_cleaned = clean_data.withColumn(\"datetime\", convert_ts('ts'))\n",
    "df_cleaned = df_cleaned.withColumn(\"hourofday\", convert_ts_hr('ts'))\n",
    "df_cleaned = df_cleaned.withColumn(\"registration_date\", convert_ts('registration'))"
   ]
  },
  {
   "cell_type": "code",
   "execution_count": 16,
   "metadata": {},
   "outputs": [
    {
     "data": {
      "text/plain": [
       "[Row(artist='The Futureheads', auth='Logged In', firstName='Ainsley', gender='F', itemInSession=80, lastName='Farley', length=120.81587, level='free', location='McAllen-Edinburg-Mission, TX', method='PUT', page='NextSong', registration=1538304455000, sessionId=187, song='Robot', status=200, ts=1538373133000, userAgent='\"Mozilla/5.0 (Windows NT 6.1; WOW64) AppleWebKit/537.36 (KHTML, like Gecko) Chrome/37.0.2062.94 Safari/537.36\"', userId='78', datetime='2018-10-01 05:52:13', hourofday='2018-10-01 05', registration_date='2018-09-30 10:47:35'),\n",
       " Row(artist=None, auth='Logged In', firstName='Ainsley', gender='F', itemInSession=81, lastName='Farley', length=None, level='free', location='McAllen-Edinburg-Mission, TX', method='PUT', page='Thumbs Down', registration=1538304455000, sessionId=187, song=None, status=307, ts=1538373134000, userAgent='\"Mozilla/5.0 (Windows NT 6.1; WOW64) AppleWebKit/537.36 (KHTML, like Gecko) Chrome/37.0.2062.94 Safari/537.36\"', userId='78', datetime='2018-10-01 05:52:14', hourofday='2018-10-01 05', registration_date='2018-09-30 10:47:35')]"
      ]
     },
     "execution_count": 16,
     "metadata": {},
     "output_type": "execute_result"
    }
   ],
   "source": [
    "# Visualise new date time formats\n",
    "df_cleaned.take(2)"
   ]
  },
  {
   "cell_type": "code",
   "execution_count": 17,
   "metadata": {},
   "outputs": [
    {
     "name": "stdout",
     "output_type": "stream",
     "text": [
      "+-------------------+-------------------+\n",
      "|      min(datetime)|      max(datetime)|\n",
      "+-------------------+-------------------+\n",
      "|2018-10-01 00:01:57|2018-12-03 01:11:16|\n",
      "+-------------------+-------------------+\n",
      "\n"
     ]
    }
   ],
   "source": [
    "# Find min and max date time from of the events to get timespan\n",
    "df_cleaned.agg(typ.min('datetime'), typ.max('datetime')).show()"
   ]
  },
  {
   "cell_type": "code",
   "execution_count": 18,
   "metadata": {},
   "outputs": [
    {
     "data": {
      "text/plain": [
       "userId\n",
       "          1\n",
       "10        1\n",
       "100       1\n",
       "100001    1\n",
       "100002    1\n",
       "100003    1\n",
       "100004    1\n",
       "100005    1\n",
       "100006    1\n",
       "100007    1\n",
       "100008    1\n",
       "100009    1\n",
       "100010    1\n",
       "100011    1\n",
       "100012    1\n",
       "100013    1\n",
       "100014    1\n",
       "100015    1\n",
       "100016    1\n",
       "100017    1\n",
       "100018    1\n",
       "100019    1\n",
       "100021    1\n",
       "100022    1\n",
       "100023    1\n",
       "100024    1\n",
       "100025    1\n",
       "101       1\n",
       "102       1\n",
       "103       1\n",
       "         ..\n",
       "72        1\n",
       "73        1\n",
       "74        1\n",
       "75        1\n",
       "76        1\n",
       "77        1\n",
       "78        1\n",
       "79        1\n",
       "8         1\n",
       "80        1\n",
       "81        1\n",
       "82        1\n",
       "83        1\n",
       "84        1\n",
       "85        1\n",
       "86        1\n",
       "87        1\n",
       "88        1\n",
       "89        1\n",
       "9         1\n",
       "90        1\n",
       "91        1\n",
       "92        1\n",
       "93        1\n",
       "94        1\n",
       "95        1\n",
       "96        1\n",
       "97        1\n",
       "98        1\n",
       "99        1\n",
       "Name: userId, Length: 226, dtype: int64"
      ]
     },
     "execution_count": 18,
     "metadata": {},
     "output_type": "execute_result"
    }
   ],
   "source": [
    "# Find from original pandas dataframe the user ID scope\n",
    "df_pandas.groupby('userId')['userId'].nunique()"
   ]
  },
  {
   "cell_type": "markdown",
   "metadata": {},
   "source": [
    "The list of user IDs does not run in a clean sequential range (for example 1-100)."
   ]
  },
  {
   "cell_type": "code",
   "execution_count": 19,
   "metadata": {},
   "outputs": [
    {
     "data": {
      "text/html": [
       "<div>\n",
       "<style scoped>\n",
       "    .dataframe tbody tr th:only-of-type {\n",
       "        vertical-align: middle;\n",
       "    }\n",
       "\n",
       "    .dataframe tbody tr th {\n",
       "        vertical-align: top;\n",
       "    }\n",
       "\n",
       "    .dataframe thead th {\n",
       "        text-align: right;\n",
       "    }\n",
       "</style>\n",
       "<table border=\"1\" class=\"dataframe\">\n",
       "  <thead>\n",
       "    <tr style=\"text-align: right;\">\n",
       "      <th></th>\n",
       "      <th>artist</th>\n",
       "      <th>auth</th>\n",
       "      <th>firstName</th>\n",
       "      <th>gender</th>\n",
       "      <th>itemInSession</th>\n",
       "      <th>lastName</th>\n",
       "      <th>length</th>\n",
       "      <th>level</th>\n",
       "      <th>location</th>\n",
       "      <th>method</th>\n",
       "      <th>page</th>\n",
       "      <th>registration</th>\n",
       "      <th>sessionId</th>\n",
       "      <th>song</th>\n",
       "      <th>status</th>\n",
       "      <th>ts</th>\n",
       "      <th>userAgent</th>\n",
       "      <th>userId</th>\n",
       "    </tr>\n",
       "  </thead>\n",
       "  <tbody>\n",
       "    <tr>\n",
       "      <th>213836</th>\n",
       "      <td>None</td>\n",
       "      <td>Logged In</td>\n",
       "      <td>Cason</td>\n",
       "      <td>M</td>\n",
       "      <td>0</td>\n",
       "      <td>Smith</td>\n",
       "      <td>NaN</td>\n",
       "      <td>free</td>\n",
       "      <td>Monroe, LA</td>\n",
       "      <td>GET</td>\n",
       "      <td>Home</td>\n",
       "      <td>1.532611e+12</td>\n",
       "      <td>5</td>\n",
       "      <td>None</td>\n",
       "      <td>200</td>\n",
       "      <td>1538407015000</td>\n",
       "      <td>\"Mozilla/5.0 (Macintosh; Intel Mac OS X 10_9_4...</td>\n",
       "      <td>100005</td>\n",
       "    </tr>\n",
       "    <tr>\n",
       "      <th>213837</th>\n",
       "      <td>Michael Jackson</td>\n",
       "      <td>Logged In</td>\n",
       "      <td>Cason</td>\n",
       "      <td>M</td>\n",
       "      <td>1</td>\n",
       "      <td>Smith</td>\n",
       "      <td>314.53995</td>\n",
       "      <td>free</td>\n",
       "      <td>Monroe, LA</td>\n",
       "      <td>PUT</td>\n",
       "      <td>NextSong</td>\n",
       "      <td>1.532611e+12</td>\n",
       "      <td>5</td>\n",
       "      <td>Thriller</td>\n",
       "      <td>200</td>\n",
       "      <td>1538407016000</td>\n",
       "      <td>\"Mozilla/5.0 (Macintosh; Intel Mac OS X 10_9_4...</td>\n",
       "      <td>100005</td>\n",
       "    </tr>\n",
       "    <tr>\n",
       "      <th>213838</th>\n",
       "      <td>None</td>\n",
       "      <td>Logged In</td>\n",
       "      <td>Cason</td>\n",
       "      <td>M</td>\n",
       "      <td>2</td>\n",
       "      <td>Smith</td>\n",
       "      <td>NaN</td>\n",
       "      <td>free</td>\n",
       "      <td>Monroe, LA</td>\n",
       "      <td>PUT</td>\n",
       "      <td>Thumbs Up</td>\n",
       "      <td>1.532611e+12</td>\n",
       "      <td>5</td>\n",
       "      <td>None</td>\n",
       "      <td>307</td>\n",
       "      <td>1538407017000</td>\n",
       "      <td>\"Mozilla/5.0 (Macintosh; Intel Mac OS X 10_9_4...</td>\n",
       "      <td>100005</td>\n",
       "    </tr>\n",
       "    <tr>\n",
       "      <th>213839</th>\n",
       "      <td>Frightened Rabbit</td>\n",
       "      <td>Logged In</td>\n",
       "      <td>Cason</td>\n",
       "      <td>M</td>\n",
       "      <td>3</td>\n",
       "      <td>Smith</td>\n",
       "      <td>253.93587</td>\n",
       "      <td>free</td>\n",
       "      <td>Monroe, LA</td>\n",
       "      <td>PUT</td>\n",
       "      <td>NextSong</td>\n",
       "      <td>1.532611e+12</td>\n",
       "      <td>5</td>\n",
       "      <td>Floating In The Forth</td>\n",
       "      <td>200</td>\n",
       "      <td>1538407330000</td>\n",
       "      <td>\"Mozilla/5.0 (Macintosh; Intel Mac OS X 10_9_4...</td>\n",
       "      <td>100005</td>\n",
       "    </tr>\n",
       "    <tr>\n",
       "      <th>213840</th>\n",
       "      <td>Afroman</td>\n",
       "      <td>Logged In</td>\n",
       "      <td>Cason</td>\n",
       "      <td>M</td>\n",
       "      <td>4</td>\n",
       "      <td>Smith</td>\n",
       "      <td>177.13587</td>\n",
       "      <td>free</td>\n",
       "      <td>Monroe, LA</td>\n",
       "      <td>PUT</td>\n",
       "      <td>NextSong</td>\n",
       "      <td>1.532611e+12</td>\n",
       "      <td>5</td>\n",
       "      <td>The American Dream</td>\n",
       "      <td>200</td>\n",
       "      <td>1538407583000</td>\n",
       "      <td>\"Mozilla/5.0 (Macintosh; Intel Mac OS X 10_9_4...</td>\n",
       "      <td>100005</td>\n",
       "    </tr>\n",
       "  </tbody>\n",
       "</table>\n",
       "</div>"
      ],
      "text/plain": [
       "                   artist       auth firstName gender  itemInSession lastName  \\\n",
       "213836               None  Logged In     Cason      M              0    Smith   \n",
       "213837    Michael Jackson  Logged In     Cason      M              1    Smith   \n",
       "213838               None  Logged In     Cason      M              2    Smith   \n",
       "213839  Frightened Rabbit  Logged In     Cason      M              3    Smith   \n",
       "213840            Afroman  Logged In     Cason      M              4    Smith   \n",
       "\n",
       "           length level    location method       page  registration  \\\n",
       "213836        NaN  free  Monroe, LA    GET       Home  1.532611e+12   \n",
       "213837  314.53995  free  Monroe, LA    PUT   NextSong  1.532611e+12   \n",
       "213838        NaN  free  Monroe, LA    PUT  Thumbs Up  1.532611e+12   \n",
       "213839  253.93587  free  Monroe, LA    PUT   NextSong  1.532611e+12   \n",
       "213840  177.13587  free  Monroe, LA    PUT   NextSong  1.532611e+12   \n",
       "\n",
       "        sessionId                   song  status             ts  \\\n",
       "213836          5                   None     200  1538407015000   \n",
       "213837          5               Thriller     200  1538407016000   \n",
       "213838          5                   None     307  1538407017000   \n",
       "213839          5  Floating In The Forth     200  1538407330000   \n",
       "213840          5     The American Dream     200  1538407583000   \n",
       "\n",
       "                                                userAgent  userId  \n",
       "213836  \"Mozilla/5.0 (Macintosh; Intel Mac OS X 10_9_4...  100005  \n",
       "213837  \"Mozilla/5.0 (Macintosh; Intel Mac OS X 10_9_4...  100005  \n",
       "213838  \"Mozilla/5.0 (Macintosh; Intel Mac OS X 10_9_4...  100005  \n",
       "213839  \"Mozilla/5.0 (Macintosh; Intel Mac OS X 10_9_4...  100005  \n",
       "213840  \"Mozilla/5.0 (Macintosh; Intel Mac OS X 10_9_4...  100005  "
      ]
     },
     "execution_count": 19,
     "metadata": {},
     "output_type": "execute_result"
    }
   ],
   "source": [
    "# Check an example of one of the higher range user IDs to ensure it it valid.\n",
    "df_pandas.loc[df_pandas['userId'] == \"100005\"].head()"
   ]
  },
  {
   "cell_type": "markdown",
   "metadata": {},
   "source": [
    "Looks fine! So i will user a distinct count on the cleaned dataframe to count the number of user IDs after the blanks have been removed."
   ]
  },
  {
   "cell_type": "code",
   "execution_count": 20,
   "metadata": {},
   "outputs": [
    {
     "name": "stdout",
     "output_type": "stream",
     "text": [
      "+----------------------+\n",
      "|count(DISTINCT userId)|\n",
      "+----------------------+\n",
      "|                   225|\n",
      "+----------------------+\n",
      "\n"
     ]
    }
   ],
   "source": [
    "# Count unique users in the dataset.\n",
    "df_cleaned.agg(countDistinct(\"userId\")).show()"
   ]
  },
  {
   "cell_type": "code",
   "execution_count": 21,
   "metadata": {},
   "outputs": [
    {
     "name": "stdout",
     "output_type": "stream",
     "text": [
      "+------+----------------------+\n",
      "|gender|count(DISTINCT userId)|\n",
      "+------+----------------------+\n",
      "|     F|                   104|\n",
      "|     M|                   121|\n",
      "+------+----------------------+\n",
      "\n"
     ]
    }
   ],
   "source": [
    "# Find gender split\n",
    "df_cleaned.groupBy(\"gender\").agg(typ.countDistinct(\"userId\")).show()"
   ]
  },
  {
   "cell_type": "markdown",
   "metadata": {},
   "source": [
    "Data shows a relatively even split in gender between the dataset with a slight potential skew on number of registered male users."
   ]
  },
  {
   "cell_type": "code",
   "execution_count": 22,
   "metadata": {},
   "outputs": [
    {
     "name": "stdout",
     "output_type": "stream",
     "text": [
      "+------+------+\n",
      "|gender| count|\n",
      "+------+------+\n",
      "|     F|154578|\n",
      "|     M|123576|\n",
      "+------+------+\n",
      "\n"
     ]
    }
   ],
   "source": [
    "# Find event split by gender\n",
    "df_cleaned.groupBy('gender').count().show()"
   ]
  },
  {
   "cell_type": "markdown",
   "metadata": {},
   "source": [
    "Despite having less registered users, the female users shows more activity / usage in the events list. This could contribute to tuning the model to particular criteria around the types of users."
   ]
  },
  {
   "cell_type": "code",
   "execution_count": 23,
   "metadata": {},
   "outputs": [
    {
     "name": "stdout",
     "output_type": "stream",
     "text": [
      "+------------------------+\n",
      "|count(DISTINCT location)|\n",
      "+------------------------+\n",
      "|                     114|\n",
      "+------------------------+\n",
      "\n"
     ]
    }
   ],
   "source": [
    "# Count number of locations\n",
    "df_cleaned.agg(countDistinct(\"location\")).show()"
   ]
  },
  {
   "cell_type": "code",
   "execution_count": 24,
   "metadata": {},
   "outputs": [],
   "source": [
    "# Split the location column out by delimiter to see if there can be any location groups / states\n",
    "df_cleaned = df_cleaned.withColumn('area', split(df['location'], ',')[1])"
   ]
  },
  {
   "cell_type": "code",
   "execution_count": 25,
   "metadata": {},
   "outputs": [
    {
     "name": "stdout",
     "output_type": "stream",
     "text": [
      "+------------+-----+\n",
      "|        area|count|\n",
      "+------------+-----+\n",
      "|          CA|46771|\n",
      "|    NY-NJ-PA|23684|\n",
      "|          TX|23494|\n",
      "|       MA-NH|13873|\n",
      "|          FL|13190|\n",
      "|          NC|10688|\n",
      "|       NC-SC| 7780|\n",
      "|          CO| 7493|\n",
      "|          MI| 7216|\n",
      "|          NJ| 7001|\n",
      "|       KY-IN| 6880|\n",
      "|          CT| 6720|\n",
      "| PA-NJ-DE-MD| 5890|\n",
      "|    IL-IN-WI| 5114|\n",
      "|       MO-IL| 4858|\n",
      "|          AZ| 4846|\n",
      "|          NH| 4764|\n",
      "|          VA| 4651|\n",
      "|          MS| 4634|\n",
      "|          NY| 4536|\n",
      "|          GA| 4236|\n",
      "|          WA| 3772|\n",
      "|          AK| 3563|\n",
      "|          KY| 3462|\n",
      "|          OH| 3432|\n",
      "| DC-VA-MD-WV| 3090|\n",
      "|          PA| 2923|\n",
      "|          AL| 2857|\n",
      "|       GA-AL| 2716|\n",
      "|          MD| 2710|\n",
      "|       MO-KS| 2562|\n",
      "|          MT| 2386|\n",
      "|          WV| 2278|\n",
      "|       MN-WI| 2241|\n",
      "|          IL| 2102|\n",
      "|          NV| 2042|\n",
      "|       TN-VA| 1863|\n",
      "|          OK| 1842|\n",
      "|          TN| 1672|\n",
      "|          WI| 1342|\n",
      "|          IN| 1262|\n",
      "|          LA| 1171|\n",
      "|          UT| 1102|\n",
      "|       IL-MO| 1003|\n",
      "|       MD-WV|  982|\n",
      "|       RI-MA|  927|\n",
      "|       SC-NC|  837|\n",
      "|       PA-NJ|  815|\n",
      "|          SC|  668|\n",
      "|          IA|  651|\n",
      "|          AR|  520|\n",
      "|       UT-ID|  317|\n",
      "|       VA-NC|  246|\n",
      "|       NE-IA|  187|\n",
      "|       OR-WA|  119|\n",
      "|    OH-KY-IN|   88|\n",
      "|    TN-MS-AR|   62|\n",
      "|          OR|   23|\n",
      "+------------+-----+\n",
      "\n"
     ]
    }
   ],
   "source": [
    "# See event logs by area\n",
    "df_cleaned.groupBy('area').count().sort(\"count\", ascending=False).show(114)"
   ]
  },
  {
   "cell_type": "code",
   "execution_count": 26,
   "metadata": {},
   "outputs": [
    {
     "name": "stdout",
     "output_type": "stream",
     "text": [
      "+--------------------+\n",
      "|count(DISTINCT area)|\n",
      "+--------------------+\n",
      "|                  58|\n",
      "+--------------------+\n",
      "\n"
     ]
    }
   ],
   "source": [
    "# Find number of state groups\n",
    "df_cleaned.agg(countDistinct(\"area\")).show()"
   ]
  },
  {
   "cell_type": "code",
   "execution_count": 27,
   "metadata": {},
   "outputs": [
    {
     "name": "stdout",
     "output_type": "stream",
     "text": [
      "+------------+----------------------+\n",
      "|        area|count(DISTINCT userId)|\n",
      "+------------+----------------------+\n",
      "|          CA|                    33|\n",
      "|          TX|                    16|\n",
      "|    NY-NJ-PA|                    15|\n",
      "|          FL|                    14|\n",
      "|          CT|                     7|\n",
      "|          AZ|                     7|\n",
      "|          NC|                     6|\n",
      "|    IL-IN-WI|                     6|\n",
      "|       MO-IL|                     6|\n",
      "|       NC-SC|                     6|\n",
      "| PA-NJ-DE-MD|                     5|\n",
      "|          NY|                     5|\n",
      "|          MI|                     5|\n",
      "|       MA-NH|                     5|\n",
      "|          WA|                     4|\n",
      "| DC-VA-MD-WV|                     4|\n",
      "|          AL|                     4|\n",
      "|          GA|                     4|\n",
      "|          CO|                     4|\n",
      "|          MS|                     3|\n",
      "|          KY|                     3|\n",
      "|          NV|                     3|\n",
      "|          PA|                     3|\n",
      "|          OH|                     3|\n",
      "|          IL|                     3|\n",
      "|       MN-WI|                     3|\n",
      "|          IN|                     3|\n",
      "|          LA|                     2|\n",
      "|          SC|                     2|\n",
      "|       VA-NC|                     2|\n",
      "|       RI-MA|                     2|\n",
      "|          MD|                     2|\n",
      "|          NH|                     2|\n",
      "|          AK|                     2|\n",
      "|          MT|                     2|\n",
      "|          VA|                     2|\n",
      "|       MO-KS|                     2|\n",
      "|       OR-WA|                     2|\n",
      "|       GA-AL|                     2|\n",
      "|    OH-KY-IN|                     2|\n",
      "|          NJ|                     2|\n",
      "|       NE-IA|                     1|\n",
      "|       PA-NJ|                     1|\n",
      "|          AR|                     1|\n",
      "|       MD-WV|                     1|\n",
      "|          OR|                     1|\n",
      "|       IL-MO|                     1|\n",
      "|          WV|                     1|\n",
      "|    TN-MS-AR|                     1|\n",
      "|          IA|                     1|\n",
      "|       KY-IN|                     1|\n",
      "|       TN-VA|                     1|\n",
      "|          WI|                     1|\n",
      "|          UT|                     1|\n",
      "|       UT-ID|                     1|\n",
      "|          TN|                     1|\n",
      "|       SC-NC|                     1|\n",
      "|          OK|                     1|\n",
      "+------------+----------------------+\n",
      "\n"
     ]
    }
   ],
   "source": [
    "# Group data and count distinct users by area\n",
    "df_cleaned.groupBy(\"area\").agg(typ.countDistinct(\"userId\")).sort(\"count(DISTINCT userId)\", ascending=False).show(58)"
   ]
  },
  {
   "cell_type": "markdown",
   "metadata": {},
   "source": [
    "This shows that nearly 35% of the users fall into the top 4 areas / location groups and the remainder of the dataset is fairly sparse. This information could be userful in the feature engineering stage."
   ]
  },
  {
   "cell_type": "code",
   "execution_count": 28,
   "metadata": {},
   "outputs": [
    {
     "data": {
      "image/png": "[encoded data removed]",
      "text/plain": [
       "<matplotlib.figure.Figure at 0x7f1b767bffd0>"
      ]
     },
     "metadata": {
      "needs_background": "light"
     },
     "output_type": "display_data"
    }
   ],
   "source": [
    "# Create panda daterange for plot\n",
    "pandas_daterange = df_cleaned.groupBy('hourofday').count().sort('hourofday', ascending=True).toPandas()\n",
    "pandas_daterange['hourofday'] = pd.to_datetime(pandas_daterange['hourofday'])\n",
    "pandas_daterange.set_index('hourofday', inplace=True)\n",
    "\n",
    "# Find the sum of events per hour\n",
    "events = pandas_daterange.sum()[0]\n",
    "\n",
    "fig, ax = plt.subplots(1, 1, figsize=(20, 10))\n",
    "pandas_daterange.plot(ax=ax, legend=False)\n",
    "ax.axhline(events)\n",
    "ax.set_title(\"Hourly Events\", fontsize=8)\n",
    "ax.set_xlabel(\"Date Range\")\n",
    "ax.set_ylabel(\"Sum of Events\")\n",
    "plt.ylim(0, 500)\n",
    "plt.show()"
   ]
  },
  {
   "cell_type": "code",
   "execution_count": 29,
   "metadata": {},
   "outputs": [
    {
     "name": "stdout",
     "output_type": "stream",
     "text": [
      "+---------+----------------------+\n",
      "|     auth|count(DISTINCT userId)|\n",
      "+---------+----------------------+\n",
      "|Cancelled|                    52|\n",
      "|Logged In|                   225|\n",
      "+---------+----------------------+\n",
      "\n"
     ]
    }
   ],
   "source": [
    "# Identify the auth categories\n",
    "df_cleaned.groupBy(\"auth\").agg(countDistinct(\"userId\")).show()"
   ]
  },
  {
   "cell_type": "code",
   "execution_count": 30,
   "metadata": {},
   "outputs": [
    {
     "name": "stdout",
     "output_type": "stream",
     "text": [
      "+--------------------+-------------+\n",
      "|                page|count(userId)|\n",
      "+--------------------+-------------+\n",
      "|            NextSong|       228108|\n",
      "|           Thumbs Up|        12551|\n",
      "|                Home|        10082|\n",
      "|     Add to Playlist|         6526|\n",
      "|          Add Friend|         4277|\n",
      "|         Roll Advert|         3933|\n",
      "|              Logout|         3226|\n",
      "|         Thumbs Down|         2546|\n",
      "|           Downgrade|         2055|\n",
      "|            Settings|         1514|\n",
      "|                Help|         1454|\n",
      "|             Upgrade|          499|\n",
      "|               About|          495|\n",
      "|       Save Settings|          310|\n",
      "|               Error|          252|\n",
      "|      Submit Upgrade|          159|\n",
      "|    Submit Downgrade|           63|\n",
      "|              Cancel|           52|\n",
      "|Cancellation Conf...|           52|\n",
      "+--------------------+-------------+\n",
      "\n"
     ]
    }
   ],
   "source": [
    "# Identify the event categories\n",
    "df_cleaned.groupBy(\"page\").agg(count(\"userId\")).sort(\"count(userId)\", ascending=False).show()"
   ]
  },
  {
   "cell_type": "markdown",
   "metadata": {},
   "source": [
    "---\n",
    "### Defining Churn\n",
    "Here i will define the criteria for a churn and create a new column for labelling this event."
   ]
  },
  {
   "cell_type": "code",
   "execution_count": 31,
   "metadata": {},
   "outputs": [],
   "source": [
    "# Define iteration action\n",
    "churn = udf(lambda x: 1 if x == \"Cancellation Confirmation\" else 0)"
   ]
  },
  {
   "cell_type": "code",
   "execution_count": 32,
   "metadata": {},
   "outputs": [],
   "source": [
    "# Iterate through data, create new column and log a '1' where Cancellation Confirmation is seen\n",
    "churn_data = df_cleaned.withColumn(\"churn\", churn(\"page\"))"
   ]
  },
  {
   "cell_type": "code",
   "execution_count": 33,
   "metadata": {},
   "outputs": [
    {
     "data": {
      "text/html": [
       "<div>\n",
       "<style scoped>\n",
       "    .dataframe tbody tr th:only-of-type {\n",
       "        vertical-align: middle;\n",
       "    }\n",
       "\n",
       "    .dataframe tbody tr th {\n",
       "        vertical-align: top;\n",
       "    }\n",
       "\n",
       "    .dataframe thead th {\n",
       "        text-align: right;\n",
       "    }\n",
       "</style>\n",
       "<table border=\"1\" class=\"dataframe\">\n",
       "  <thead>\n",
       "    <tr style=\"text-align: right;\">\n",
       "      <th></th>\n",
       "      <th>artist</th>\n",
       "      <th>auth</th>\n",
       "      <th>firstName</th>\n",
       "      <th>gender</th>\n",
       "      <th>itemInSession</th>\n",
       "      <th>lastName</th>\n",
       "      <th>length</th>\n",
       "      <th>level</th>\n",
       "      <th>location</th>\n",
       "      <th>method</th>\n",
       "      <th>...</th>\n",
       "      <th>song</th>\n",
       "      <th>status</th>\n",
       "      <th>ts</th>\n",
       "      <th>userAgent</th>\n",
       "      <th>userId</th>\n",
       "      <th>datetime</th>\n",
       "      <th>hourofday</th>\n",
       "      <th>registration_date</th>\n",
       "      <th>area</th>\n",
       "      <th>churn</th>\n",
       "    </tr>\n",
       "  </thead>\n",
       "  <tbody>\n",
       "    <tr>\n",
       "      <th>0</th>\n",
       "      <td>The Futureheads</td>\n",
       "      <td>Logged In</td>\n",
       "      <td>Ainsley</td>\n",
       "      <td>F</td>\n",
       "      <td>80</td>\n",
       "      <td>Farley</td>\n",
       "      <td>120.81587</td>\n",
       "      <td>free</td>\n",
       "      <td>McAllen-Edinburg-Mission, TX</td>\n",
       "      <td>PUT</td>\n",
       "      <td>...</td>\n",
       "      <td>Robot</td>\n",
       "      <td>200</td>\n",
       "      <td>1538373133000</td>\n",
       "      <td>\"Mozilla/5.0 (Windows NT 6.1; WOW64) AppleWebK...</td>\n",
       "      <td>78</td>\n",
       "      <td>2018-10-01 05:52:13</td>\n",
       "      <td>2018-10-01 05</td>\n",
       "      <td>2018-09-30 10:47:35</td>\n",
       "      <td>TX</td>\n",
       "      <td>0</td>\n",
       "    </tr>\n",
       "    <tr>\n",
       "      <th>1</th>\n",
       "      <td>None</td>\n",
       "      <td>Logged In</td>\n",
       "      <td>Ainsley</td>\n",
       "      <td>F</td>\n",
       "      <td>81</td>\n",
       "      <td>Farley</td>\n",
       "      <td>NaN</td>\n",
       "      <td>free</td>\n",
       "      <td>McAllen-Edinburg-Mission, TX</td>\n",
       "      <td>PUT</td>\n",
       "      <td>...</td>\n",
       "      <td>None</td>\n",
       "      <td>307</td>\n",
       "      <td>1538373134000</td>\n",
       "      <td>\"Mozilla/5.0 (Windows NT 6.1; WOW64) AppleWebK...</td>\n",
       "      <td>78</td>\n",
       "      <td>2018-10-01 05:52:14</td>\n",
       "      <td>2018-10-01 05</td>\n",
       "      <td>2018-09-30 10:47:35</td>\n",
       "      <td>TX</td>\n",
       "      <td>0</td>\n",
       "    </tr>\n",
       "    <tr>\n",
       "      <th>2</th>\n",
       "      <td>O'Rosko Raricim</td>\n",
       "      <td>Logged In</td>\n",
       "      <td>Madison</td>\n",
       "      <td>F</td>\n",
       "      <td>74</td>\n",
       "      <td>Morales</td>\n",
       "      <td>90.56608</td>\n",
       "      <td>paid</td>\n",
       "      <td>Tampa-St. Petersburg-Clearwater, FL</td>\n",
       "      <td>PUT</td>\n",
       "      <td>...</td>\n",
       "      <td>Terre Promise</td>\n",
       "      <td>200</td>\n",
       "      <td>1538384924000</td>\n",
       "      <td>\"Mozilla/5.0 (Macintosh; Intel Mac OS X 10_9_4...</td>\n",
       "      <td>25</td>\n",
       "      <td>2018-10-01 09:08:44</td>\n",
       "      <td>2018-10-01 09</td>\n",
       "      <td>2018-09-07 02:24:59</td>\n",
       "      <td>FL</td>\n",
       "      <td>0</td>\n",
       "    </tr>\n",
       "    <tr>\n",
       "      <th>3</th>\n",
       "      <td>Morgan Page</td>\n",
       "      <td>Logged In</td>\n",
       "      <td>Panav</td>\n",
       "      <td>M</td>\n",
       "      <td>23</td>\n",
       "      <td>Myers</td>\n",
       "      <td>235.54567</td>\n",
       "      <td>paid</td>\n",
       "      <td>Morgantown, WV</td>\n",
       "      <td>PUT</td>\n",
       "      <td>...</td>\n",
       "      <td>Strange Condition</td>\n",
       "      <td>200</td>\n",
       "      <td>1538394878000</td>\n",
       "      <td>\"Mozilla/5.0 (Windows NT 6.1; WOW64) AppleWebK...</td>\n",
       "      <td>15</td>\n",
       "      <td>2018-10-01 11:54:38</td>\n",
       "      <td>2018-10-01 11</td>\n",
       "      <td>2018-09-29 16:37:25</td>\n",
       "      <td>WV</td>\n",
       "      <td>0</td>\n",
       "    </tr>\n",
       "    <tr>\n",
       "      <th>4</th>\n",
       "      <td>None</td>\n",
       "      <td>Logged In</td>\n",
       "      <td>Ethan</td>\n",
       "      <td>M</td>\n",
       "      <td>15</td>\n",
       "      <td>Raymond</td>\n",
       "      <td>NaN</td>\n",
       "      <td>free</td>\n",
       "      <td>Hartford-West Hartford-East Hartford, CT</td>\n",
       "      <td>GET</td>\n",
       "      <td>...</td>\n",
       "      <td>None</td>\n",
       "      <td>200</td>\n",
       "      <td>1538402423000</td>\n",
       "      <td>\"Mozilla/5.0 (Windows NT 6.3; WOW64) AppleWebK...</td>\n",
       "      <td>27</td>\n",
       "      <td>2018-10-01 14:00:23</td>\n",
       "      <td>2018-10-01 14</td>\n",
       "      <td>2018-08-14 11:26:36</td>\n",
       "      <td>CT</td>\n",
       "      <td>0</td>\n",
       "    </tr>\n",
       "  </tbody>\n",
       "</table>\n",
       "<p>5 rows × 23 columns</p>\n",
       "</div>"
      ],
      "text/plain": [
       "            artist       auth firstName gender  itemInSession lastName  \\\n",
       "0  The Futureheads  Logged In   Ainsley      F             80   Farley   \n",
       "1             None  Logged In   Ainsley      F             81   Farley   \n",
       "2  O'Rosko Raricim  Logged In   Madison      F             74  Morales   \n",
       "3      Morgan Page  Logged In     Panav      M             23    Myers   \n",
       "4             None  Logged In     Ethan      M             15  Raymond   \n",
       "\n",
       "      length level                                  location method  ...   \\\n",
       "0  120.81587  free              McAllen-Edinburg-Mission, TX    PUT  ...    \n",
       "1        NaN  free              McAllen-Edinburg-Mission, TX    PUT  ...    \n",
       "2   90.56608  paid       Tampa-St. Petersburg-Clearwater, FL    PUT  ...    \n",
       "3  235.54567  paid                            Morgantown, WV    PUT  ...    \n",
       "4        NaN  free  Hartford-West Hartford-East Hartford, CT    GET  ...    \n",
       "\n",
       "                song  status             ts  \\\n",
       "0              Robot     200  1538373133000   \n",
       "1               None     307  1538373134000   \n",
       "2      Terre Promise     200  1538384924000   \n",
       "3  Strange Condition     200  1538394878000   \n",
       "4               None     200  1538402423000   \n",
       "\n",
       "                                           userAgent  userId  \\\n",
       "0  \"Mozilla/5.0 (Windows NT 6.1; WOW64) AppleWebK...      78   \n",
       "1  \"Mozilla/5.0 (Windows NT 6.1; WOW64) AppleWebK...      78   \n",
       "2  \"Mozilla/5.0 (Macintosh; Intel Mac OS X 10_9_4...      25   \n",
       "3  \"Mozilla/5.0 (Windows NT 6.1; WOW64) AppleWebK...      15   \n",
       "4  \"Mozilla/5.0 (Windows NT 6.3; WOW64) AppleWebK...      27   \n",
       "\n",
       "              datetime      hourofday    registration_date area churn  \n",
       "0  2018-10-01 05:52:13  2018-10-01 05  2018-09-30 10:47:35   TX     0  \n",
       "1  2018-10-01 05:52:14  2018-10-01 05  2018-09-30 10:47:35   TX     0  \n",
       "2  2018-10-01 09:08:44  2018-10-01 09  2018-09-07 02:24:59   FL     0  \n",
       "3  2018-10-01 11:54:38  2018-10-01 11  2018-09-29 16:37:25   WV     0  \n",
       "4  2018-10-01 14:00:23  2018-10-01 14  2018-08-14 11:26:36   CT     0  \n",
       "\n",
       "[5 rows x 23 columns]"
      ]
     },
     "execution_count": 33,
     "metadata": {},
     "output_type": "execute_result"
    }
   ],
   "source": [
    "# Visualise the data in pandas dataframe\n",
    "pd_churn = churn_data.toPandas()\n",
    "pd_churn.head()"
   ]
  },
  {
   "cell_type": "code",
   "execution_count": 34,
   "metadata": {},
   "outputs": [
    {
     "data": {
      "text/html": [
       "<div>\n",
       "<style scoped>\n",
       "    .dataframe tbody tr th:only-of-type {\n",
       "        vertical-align: middle;\n",
       "    }\n",
       "\n",
       "    .dataframe tbody tr th {\n",
       "        vertical-align: top;\n",
       "    }\n",
       "\n",
       "    .dataframe thead th {\n",
       "        text-align: right;\n",
       "    }\n",
       "</style>\n",
       "<table border=\"1\" class=\"dataframe\">\n",
       "  <thead>\n",
       "    <tr style=\"text-align: right;\">\n",
       "      <th></th>\n",
       "      <th>artist</th>\n",
       "      <th>auth</th>\n",
       "      <th>firstName</th>\n",
       "      <th>gender</th>\n",
       "      <th>itemInSession</th>\n",
       "      <th>lastName</th>\n",
       "      <th>length</th>\n",
       "      <th>level</th>\n",
       "      <th>location</th>\n",
       "      <th>method</th>\n",
       "      <th>...</th>\n",
       "      <th>song</th>\n",
       "      <th>status</th>\n",
       "      <th>ts</th>\n",
       "      <th>userAgent</th>\n",
       "      <th>userId</th>\n",
       "      <th>datetime</th>\n",
       "      <th>hourofday</th>\n",
       "      <th>registration_date</th>\n",
       "      <th>area</th>\n",
       "      <th>churn</th>\n",
       "    </tr>\n",
       "  </thead>\n",
       "  <tbody>\n",
       "    <tr>\n",
       "      <th>1067</th>\n",
       "      <td>None</td>\n",
       "      <td>Cancelled</td>\n",
       "      <td>Mahi</td>\n",
       "      <td>F</td>\n",
       "      <td>17</td>\n",
       "      <td>Robinson</td>\n",
       "      <td>NaN</td>\n",
       "      <td>free</td>\n",
       "      <td>Houston-The Woodlands-Sugar Land, TX</td>\n",
       "      <td>GET</td>\n",
       "      <td>...</td>\n",
       "      <td>None</td>\n",
       "      <td>200</td>\n",
       "      <td>1542038645000</td>\n",
       "      <td>Mozilla/5.0 (Macintosh; Intel Mac OS X 10.9; r...</td>\n",
       "      <td>100022</td>\n",
       "      <td>2018-11-12 16:04:05</td>\n",
       "      <td>2018-11-12 16</td>\n",
       "      <td>2018-09-25 17:58:55</td>\n",
       "      <td>TX</td>\n",
       "      <td>1</td>\n",
       "    </tr>\n",
       "    <tr>\n",
       "      <th>1185</th>\n",
       "      <td>None</td>\n",
       "      <td>Cancelled</td>\n",
       "      <td>Keegan</td>\n",
       "      <td>M</td>\n",
       "      <td>46</td>\n",
       "      <td>Rivera</td>\n",
       "      <td>NaN</td>\n",
       "      <td>free</td>\n",
       "      <td>Orlando-Kissimmee-Sanford, FL</td>\n",
       "      <td>GET</td>\n",
       "      <td>...</td>\n",
       "      <td>None</td>\n",
       "      <td>200</td>\n",
       "      <td>1542472842000</td>\n",
       "      <td>Mozilla/5.0 (Macintosh; Intel Mac OS X 10.9; r...</td>\n",
       "      <td>200020</td>\n",
       "      <td>2018-11-17 16:40:42</td>\n",
       "      <td>2018-11-17 16</td>\n",
       "      <td>2018-09-02 16:51:56</td>\n",
       "      <td>FL</td>\n",
       "      <td>1</td>\n",
       "    </tr>\n",
       "    <tr>\n",
       "      <th>1994</th>\n",
       "      <td>None</td>\n",
       "      <td>Cancelled</td>\n",
       "      <td>Teagan</td>\n",
       "      <td>F</td>\n",
       "      <td>306</td>\n",
       "      <td>Roberts</td>\n",
       "      <td>NaN</td>\n",
       "      <td>paid</td>\n",
       "      <td>New Philadelphia-Dover, OH</td>\n",
       "      <td>GET</td>\n",
       "      <td>...</td>\n",
       "      <td>None</td>\n",
       "      <td>200</td>\n",
       "      <td>1541463632000</td>\n",
       "      <td>Mozilla/5.0 (Windows NT 6.1; WOW64; Trident/7....</td>\n",
       "      <td>28</td>\n",
       "      <td>2018-11-06 00:20:32</td>\n",
       "      <td>2018-11-06 00</td>\n",
       "      <td>2018-09-22 16:47:45</td>\n",
       "      <td>OH</td>\n",
       "      <td>1</td>\n",
       "    </tr>\n",
       "    <tr>\n",
       "      <th>2440</th>\n",
       "      <td>None</td>\n",
       "      <td>Cancelled</td>\n",
       "      <td>Troy</td>\n",
       "      <td>M</td>\n",
       "      <td>61</td>\n",
       "      <td>Mathis</td>\n",
       "      <td>NaN</td>\n",
       "      <td>free</td>\n",
       "      <td>San Francisco-Oakland-Hayward, CA</td>\n",
       "      <td>GET</td>\n",
       "      <td>...</td>\n",
       "      <td>None</td>\n",
       "      <td>200</td>\n",
       "      <td>1540611104000</td>\n",
       "      <td>\"Mozilla/5.0 (Windows NT 6.1; WOW64) AppleWebK...</td>\n",
       "      <td>100009</td>\n",
       "      <td>2018-10-27 03:31:44</td>\n",
       "      <td>2018-10-27 03</td>\n",
       "      <td>2018-09-19 17:00:37</td>\n",
       "      <td>CA</td>\n",
       "      <td>1</td>\n",
       "    </tr>\n",
       "    <tr>\n",
       "      <th>6620</th>\n",
       "      <td>None</td>\n",
       "      <td>Cancelled</td>\n",
       "      <td>Tina</td>\n",
       "      <td>F</td>\n",
       "      <td>115</td>\n",
       "      <td>Thompson</td>\n",
       "      <td>NaN</td>\n",
       "      <td>paid</td>\n",
       "      <td>North Wilkesboro, NC</td>\n",
       "      <td>GET</td>\n",
       "      <td>...</td>\n",
       "      <td>None</td>\n",
       "      <td>200</td>\n",
       "      <td>1543073753000</td>\n",
       "      <td>\"Mozilla/5.0 (Macintosh; Intel Mac OS X 10_9_4...</td>\n",
       "      <td>100015</td>\n",
       "      <td>2018-11-24 15:35:53</td>\n",
       "      <td>2018-11-24 15</td>\n",
       "      <td>2018-09-17 18:29:49</td>\n",
       "      <td>NC</td>\n",
       "      <td>1</td>\n",
       "    </tr>\n",
       "  </tbody>\n",
       "</table>\n",
       "<p>5 rows × 23 columns</p>\n",
       "</div>"
      ],
      "text/plain": [
       "     artist       auth firstName gender  itemInSession  lastName  length  \\\n",
       "1067   None  Cancelled      Mahi      F             17  Robinson     NaN   \n",
       "1185   None  Cancelled    Keegan      M             46    Rivera     NaN   \n",
       "1994   None  Cancelled    Teagan      F            306   Roberts     NaN   \n",
       "2440   None  Cancelled      Troy      M             61    Mathis     NaN   \n",
       "6620   None  Cancelled      Tina      F            115  Thompson     NaN   \n",
       "\n",
       "     level                              location method  ...   song  status  \\\n",
       "1067  free  Houston-The Woodlands-Sugar Land, TX    GET  ...   None     200   \n",
       "1185  free         Orlando-Kissimmee-Sanford, FL    GET  ...   None     200   \n",
       "1994  paid            New Philadelphia-Dover, OH    GET  ...   None     200   \n",
       "2440  free     San Francisco-Oakland-Hayward, CA    GET  ...   None     200   \n",
       "6620  paid                  North Wilkesboro, NC    GET  ...   None     200   \n",
       "\n",
       "                 ts                                          userAgent  \\\n",
       "1067  1542038645000  Mozilla/5.0 (Macintosh; Intel Mac OS X 10.9; r...   \n",
       "1185  1542472842000  Mozilla/5.0 (Macintosh; Intel Mac OS X 10.9; r...   \n",
       "1994  1541463632000  Mozilla/5.0 (Windows NT 6.1; WOW64; Trident/7....   \n",
       "2440  1540611104000  \"Mozilla/5.0 (Windows NT 6.1; WOW64) AppleWebK...   \n",
       "6620  1543073753000  \"Mozilla/5.0 (Macintosh; Intel Mac OS X 10_9_4...   \n",
       "\n",
       "      userId             datetime      hourofday    registration_date area  \\\n",
       "1067  100022  2018-11-12 16:04:05  2018-11-12 16  2018-09-25 17:58:55   TX   \n",
       "1185  200020  2018-11-17 16:40:42  2018-11-17 16  2018-09-02 16:51:56   FL   \n",
       "1994      28  2018-11-06 00:20:32  2018-11-06 00  2018-09-22 16:47:45   OH   \n",
       "2440  100009  2018-10-27 03:31:44  2018-10-27 03  2018-09-19 17:00:37   CA   \n",
       "6620  100015  2018-11-24 15:35:53  2018-11-24 15  2018-09-17 18:29:49   NC   \n",
       "\n",
       "     churn  \n",
       "1067     1  \n",
       "1185     1  \n",
       "1994     1  \n",
       "2440     1  \n",
       "6620     1  \n",
       "\n",
       "[5 rows x 23 columns]"
      ]
     },
     "execution_count": 34,
     "metadata": {},
     "output_type": "execute_result"
    }
   ],
   "source": [
    "# See header of data where churn is equal to 1\n",
    "pd_churn.loc[pd_churn['churn'] == \"1\"].head()"
   ]
  },
  {
   "cell_type": "markdown",
   "metadata": {},
   "source": [
    "Furthermore, a churn tag is required to identify each event that a churn user carried out."
   ]
  },
  {
   "cell_type": "code",
   "execution_count": 35,
   "metadata": {},
   "outputs": [],
   "source": [
    "# Define churn tag for each churn user activity.\n",
    "window = Window.partitionBy(\"userId\").orderBy(desc(\"ts\")).rangeBetween(Window.unboundedPreceding, 0)\n",
    "churn_data = churn_data.withColumn(\"churn\", ssum(\"churn\").over(window))"
   ]
  },
  {
   "cell_type": "code",
   "execution_count": 36,
   "metadata": {},
   "outputs": [
    {
     "data": {
      "text/plain": [
       "[Row(artist=None, auth='Cancelled', firstName='Mason', gender='M', itemInSession=10, lastName='Hart', length=None, level='free', location='Corpus Christi, TX', method='GET', page='Cancellation Confirmation', registration=1533157139000, sessionId=174, song=None, status=200, ts=1539318918000, userAgent='\"Mozilla/5.0 (Macintosh; Intel Mac OS X 10_9_4) AppleWebKit/537.36 (KHTML, like Gecko) Chrome/36.0.1985.125 Safari/537.36\"', userId='125', datetime='2018-10-12 04:35:18', hourofday='2018-10-12 04', registration_date='2018-08-01 20:58:59', area=' TX', churn=1.0),\n",
       " Row(artist=None, auth='Logged In', firstName='Mason', gender='M', itemInSession=9, lastName='Hart', length=None, level='free', location='Corpus Christi, TX', method='PUT', page='Cancel', registration=1533157139000, sessionId=174, song=None, status=307, ts=1539318918000, userAgent='\"Mozilla/5.0 (Macintosh; Intel Mac OS X 10_9_4) AppleWebKit/537.36 (KHTML, like Gecko) Chrome/36.0.1985.125 Safari/537.36\"', userId='125', datetime='2018-10-12 04:35:18', hourofday='2018-10-12 04', registration_date='2018-08-01 20:58:59', area=' TX', churn=1.0),\n",
       " Row(artist=None, auth='Logged In', firstName='Mason', gender='M', itemInSession=8, lastName='Hart', length=None, level='free', location='Corpus Christi, TX', method='GET', page='Roll Advert', registration=1533157139000, sessionId=174, song=None, status=200, ts=1539318917000, userAgent='\"Mozilla/5.0 (Macintosh; Intel Mac OS X 10_9_4) AppleWebKit/537.36 (KHTML, like Gecko) Chrome/36.0.1985.125 Safari/537.36\"', userId='125', datetime='2018-10-12 04:35:17', hourofday='2018-10-12 04', registration_date='2018-08-01 20:58:59', area=' TX', churn=1.0),\n",
       " Row(artist='Bonobo', auth='Logged In', firstName='Mason', gender='M', itemInSession=7, lastName='Hart', length=323.81342, level='free', location='Corpus Christi, TX', method='PUT', page='NextSong', registration=1533157139000, sessionId=174, song='Kota', status=200, ts=1539318906000, userAgent='\"Mozilla/5.0 (Macintosh; Intel Mac OS X 10_9_4) AppleWebKit/537.36 (KHTML, like Gecko) Chrome/36.0.1985.125 Safari/537.36\"', userId='125', datetime='2018-10-12 04:35:06', hourofday='2018-10-12 04', registration_date='2018-08-01 20:58:59', area=' TX', churn=1.0),\n",
       " Row(artist='Robert Johnson', auth='Logged In', firstName='Mason', gender='M', itemInSession=6, lastName='Hart', length=178.41587, level='free', location='Corpus Christi, TX', method='PUT', page='NextSong', registration=1533157139000, sessionId=174, song=\"They're Red Hot\", status=200, ts=1539318728000, userAgent='\"Mozilla/5.0 (Macintosh; Intel Mac OS X 10_9_4) AppleWebKit/537.36 (KHTML, like Gecko) Chrome/36.0.1985.125 Safari/537.36\"', userId='125', datetime='2018-10-12 04:32:08', hourofday='2018-10-12 04', registration_date='2018-08-01 20:58:59', area=' TX', churn=1.0)]"
      ]
     },
     "execution_count": 36,
     "metadata": {},
     "output_type": "execute_result"
    }
   ],
   "source": [
    "# Visualise data after churn tag to ensure a churn value of 1 is seen whether the event it cancellation or not\n",
    "churn_data.filter(\"churn = 1\").take(5)"
   ]
  },
  {
   "cell_type": "markdown",
   "metadata": {},
   "source": [
    "--- \n",
    "### Churn Data Exploration\n",
    "\n",
    "Now i will explore the dataset by churn criteria to further support the feature engineering. The features i will explore will be:\n",
    "\n",
    "- 1) gender.\n",
    "- 2) level (Type of Subscription).\n",
    "- 3) location - Both by area and location.\n",
    "- 4) page - Typical Usage (number of events....e.g playlists, adverts, liking/disliking content.\n",
    "- 5) artists / song - Number of unique songs and artists listened to.\n",
    "- 6) length - Duration of activity.\n",
    "- 7) user Agent - Type of system.\n",
    "- 8) ts - Multiple exploration techniques could be applied to this to combine activities accross time range.\n",
    "\n",
    "Features which do not show any stand out initial value without exploring the rest of the data set are:\n",
    "\n",
    "- auth\n",
    "- firstName\n",
    "- lastName\n",
    "- itemInSession\n",
    "- method\n",
    "- registration\n",
    "- sessionId\n",
    "- status\n",
    "- userId (As its own analysis. It will be used to help idenitfy unique users)\n",
    "\n",
    "The results of the modelling stage will determine whether i need to use / explore more features or adjust the model parameters."
   ]
  },
  {
   "cell_type": "code",
   "execution_count": 37,
   "metadata": {},
   "outputs": [
    {
     "name": "stdout",
     "output_type": "stream",
     "text": [
      "+-----+----------------------+\n",
      "|churn|count(DISTINCT userId)|\n",
      "+-----+----------------------+\n",
      "|  0.0|                   173|\n",
      "|  1.0|                    52|\n",
      "+-----+----------------------+\n",
      "\n"
     ]
    }
   ],
   "source": [
    "# Count total number of churned users\n",
    "churn_data.groupBy(\"churn\").agg(typ.countDistinct(\"userId\")).show()"
   ]
  },
  {
   "cell_type": "code",
   "execution_count": 38,
   "metadata": {},
   "outputs": [
    {
     "name": "stdout",
     "output_type": "stream",
     "text": [
      "+-----+------+----------------------+\n",
      "|churn|gender|count(DISTINCT userId)|\n",
      "+-----+------+----------------------+\n",
      "|  0.0|     F|                    84|\n",
      "|  1.0|     F|                    20|\n",
      "|  1.0|     M|                    32|\n",
      "|  0.0|     M|                    89|\n",
      "+-----+------+----------------------+\n",
      "\n"
     ]
    }
   ],
   "source": [
    "# Identify the amount of users who churn by gender.\n",
    "churn_data.groupBy(\"churn\", \"gender\").agg(typ.countDistinct(\"userId\")).show()"
   ]
  },
  {
   "cell_type": "code",
   "execution_count": 39,
   "metadata": {},
   "outputs": [
    {
     "name": "stdout",
     "output_type": "stream",
     "text": [
      "+-----+-----+-----+\n",
      "|churn|level|count|\n",
      "+-----+-----+-----+\n",
      "|  1.0| free|   44|\n",
      "|  1.0| paid|    8|\n",
      "|  0.0| free|  133|\n",
      "|  0.0| paid|   40|\n",
      "+-----+-----+-----+\n",
      "\n"
     ]
    }
   ],
   "source": [
    "# Identify the amount of users who churn by type of membership.\n",
    "churn_data.select(col(\"userId\"), last(\"level\").over(Window.partitionBy([\"userId\"])).alias(\"level\"),\\\n",
    "    col(\"churn\")).dropDuplicates() \\\n",
    "    .groupBy(\"churn\", \"level\").count().show()"
   ]
  },
  {
   "cell_type": "code",
   "execution_count": 40,
   "metadata": {},
   "outputs": [
    {
     "name": "stdout",
     "output_type": "stream",
     "text": [
      "+-----+------------+----------------------+\n",
      "|churn|        area|count(DISTINCT userId)|\n",
      "+-----+------------+----------------------+\n",
      "|  1.0|          CA|                     6|\n",
      "|  1.0|    NY-NJ-PA|                     5|\n",
      "|  1.0|          MI|                     3|\n",
      "|  1.0|          TX|                     3|\n",
      "|  1.0|          FL|                     3|\n",
      "|  1.0|          CO|                     2|\n",
      "|  1.0|          AL|                     2|\n",
      "|  1.0|          MS|                     2|\n",
      "|  1.0| PA-NJ-DE-MD|                     2|\n",
      "|  1.0|          KY|                     2|\n",
      "|  1.0|          AZ|                     2|\n",
      "|  1.0|          OH|                     2|\n",
      "|  1.0|          WA|                     2|\n",
      "|  1.0|          LA|                     1|\n",
      "|  1.0|          OR|                     1|\n",
      "|  1.0|    IL-IN-WI|                     1|\n",
      "|  1.0|          NC|                     1|\n",
      "|  1.0|          MT|                     1|\n",
      "|  1.0| DC-VA-MD-WV|                     1|\n",
      "|  1.0|       IL-MO|                     1|\n",
      "|  1.0|          SC|                     1|\n",
      "|  1.0|          MD|                     1|\n",
      "|  1.0|          NY|                     1|\n",
      "|  1.0|       MO-KS|                     1|\n",
      "|  1.0|       MO-IL|                     1|\n",
      "|  1.0|       VA-NC|                     1|\n",
      "|  1.0|    TN-MS-AR|                     1|\n",
      "|  1.0|          IN|                     1|\n",
      "|  1.0|          AR|                     1|\n",
      "+-----+------------+----------------------+\n",
      "\n"
     ]
    }
   ],
   "source": [
    "# Identify the amount of users who churn by area\n",
    "churn_data.filter(churn_data[\"churn\"] == 1).groupBy(\"churn\", \"area\")\\\n",
    "    .agg(typ.countDistinct(\"userId\")).sort(\"count(DISTINCT userId)\", ascending=False).show(52)"
   ]
  },
  {
   "cell_type": "code",
   "execution_count": 41,
   "metadata": {},
   "outputs": [
    {
     "name": "stdout",
     "output_type": "stream",
     "text": [
      "+-----+--------------------+----------------------+\n",
      "|churn|            location|count(DISTINCT userId)|\n",
      "+-----+--------------------+----------------------+\n",
      "|  1.0|New York-Newark-J...|                     5|\n",
      "|  1.0|Los Angeles-Long ...|                     3|\n",
      "|  1.0|           Flint, MI|                     2|\n",
      "|  1.0|Miami-Fort Lauder...|                     2|\n",
      "|  1.0|Philadelphia-Camd...|                     2|\n",
      "|  1.0|Spokane-Spokane V...|                     2|\n",
      "|  1.0|Phoenix-Mesa-Scot...|                     2|\n",
      "|  1.0|         Jackson, MS|                     2|\n",
      "|  1.0|          London, KY|                     1|\n",
      "|  1.0|Albany-Schenectad...|                     1|\n",
      "|  1.0|Houston-The Woodl...|                     1|\n",
      "|  1.0|Virginia Beach-No...|                     1|\n",
      "|  1.0|Oxnard-Thousand O...|                     1|\n",
      "|  1.0|Colorado Springs, CO|                     1|\n",
      "|  1.0|Cleveland-Elyria, OH|                     1|\n",
      "|  1.0|Greenville-Anders...|                     1|\n",
      "|  1.0|Indianapolis-Carm...|                     1|\n",
      "|  1.0|Baltimore-Columbi...|                     1|\n",
      "|  1.0|Detroit-Warren-De...|                     1|\n",
      "|  1.0|Orlando-Kissimmee...|                     1|\n",
      "|  1.0|          Monroe, LA|                     1|\n",
      "|  1.0|Chicago-Napervill...|                     1|\n",
      "|  1.0|   Memphis, TN-MS-AR|                     1|\n",
      "|  1.0|          Albany, OR|                     1|\n",
      "|  1.0|           Selma, AL|                     1|\n",
      "|  1.0|San Diego-Carlsba...|                     1|\n",
      "|  1.0|  Kansas City, MO-KS|                     1|\n",
      "|  1.0|Birmingham-Hoover...|                     1|\n",
      "|  1.0|Denver-Aurora-Lak...|                     1|\n",
      "|  1.0|New Philadelphia-...|                     1|\n",
      "|  1.0|Dallas-Fort Worth...|                     1|\n",
      "|  1.0|         Bozeman, MT|                     1|\n",
      "|  1.0|North Wilkesboro, NC|                     1|\n",
      "|  1.0|       Quincy, IL-MO|                     1|\n",
      "|  1.0|Lexington-Fayette...|                     1|\n",
      "|  1.0|  Corpus Christi, TX|                     1|\n",
      "|  1.0|San Francisco-Oak...|                     1|\n",
      "|  1.0|    St. Louis, MO-IL|                     1|\n",
      "|  1.0|Little Rock-North...|                     1|\n",
      "|  1.0|Washington-Arling...|                     1|\n",
      "+-----+--------------------+----------------------+\n",
      "\n"
     ]
    }
   ],
   "source": [
    "# Identify the amount of users who churn by location\n",
    "churn_data.filter(churn_data[\"churn\"] == 1).groupBy(\"churn\", \"location\")\\\n",
    "    .agg(typ.countDistinct(\"userId\")).sort(\"count(DISTINCT userId)\", ascending=False).show(52)"
   ]
  },
  {
   "cell_type": "code",
   "execution_count": 42,
   "metadata": {},
   "outputs": [
    {
     "name": "stdout",
     "output_type": "stream",
     "text": [
      "+-----+--------------------+------+--------------------+\n",
      "|churn|                page| count|          percentage|\n",
      "+-----+--------------------+------+--------------------+\n",
      "|  1.0|            NextSong| 36394|  0.8112072039942939|\n",
      "|  1.0|           Thumbs Up|  1859| 0.04143634094151213|\n",
      "|  1.0|                Home|  1672|0.037268188302425106|\n",
      "|  1.0|     Add to Playlist|  1038|0.023136590584878745|\n",
      "|  1.0|         Roll Advert|   967|0.021554029957203995|\n",
      "|  1.0|          Add Friend|   636|0.014176176890156919|\n",
      "|  1.0|              Logout|   553| 0.01232614122681883|\n",
      "|  1.0|         Thumbs Down|   496|0.011055634807417974|\n",
      "|  1.0|           Downgrade|   337|0.007511590584878745|\n",
      "|  1.0|            Settings|   270|0.006018188302425107|\n",
      "|  1.0|                Help|   239|0.005327211126961484|\n",
      "|  1.0|             Upgrade|   112|0.002496433666191...|\n",
      "|  1.0|       Save Settings|    58|0.001292796005706134|\n",
      "|  1.0|               About|    56|0.001248216833095...|\n",
      "|  1.0|              Cancel|    52|0.001159058487874...|\n",
      "|  1.0|Cancellation Conf...|    52|0.001159058487874...|\n",
      "|  1.0|               Error|    32|7.132667617689016E-4|\n",
      "|  1.0|      Submit Upgrade|    32|7.132667617689016E-4|\n",
      "|  1.0|    Submit Downgrade|     9|2.006062767475035...|\n",
      "|  0.0|            NextSong|191714|  0.8217840456084702|\n",
      "|  0.0|           Thumbs Up| 10692| 0.04583136868275537|\n",
      "|  0.0|                Home|  8410| 0.03604955205966823|\n",
      "|  0.0|     Add to Playlist|  5488|0.023524368811350678|\n",
      "|  0.0|          Add Friend|  3641|0.015607184191349823|\n",
      "|  0.0|         Roll Advert|  2966|0.012713789703802134|\n",
      "|  0.0|              Logout|  2673|0.011457842170688843|\n",
      "|  0.0|         Thumbs Down|  2050|0.008787346221441126|\n",
      "|  0.0|           Downgrade|  1718|0.007364224784602855|\n",
      "|  0.0|            Settings|  1244| 0.00533241887779159|\n",
      "|  0.0|                Help|  1215|0.005208110077585837|\n",
      "|  0.0|               About|   439|0.001881778044493...|\n",
      "|  0.0|             Upgrade|   387|0.001658879506194...|\n",
      "|  0.0|       Save Settings|   252| 0.00108020060868447|\n",
      "|  0.0|               Error|   220|  9.4303227742295E-4|\n",
      "|  0.0|      Submit Upgrade|   127|5.443868146941575E-4|\n",
      "|  0.0|    Submit Downgrade|    54| 2.31471559003815E-4|\n",
      "+-----+--------------------+------+--------------------+\n",
      "\n"
     ]
    }
   ],
   "source": [
    "# Show count of events and categorise if the user churns during the membership\n",
    "churn_data.groupBy([\"churn\",\"page\"]).count().withColumn(\"percentage\", col(\"count\")/ssum(\"count\")\\\n",
    "          .over(Window.partitionBy(\"churn\"))) \\\n",
    "          .sort(\"churn\",\"percentage\", ascending=False).show(40)"
   ]
  },
  {
   "cell_type": "code",
   "execution_count": 43,
   "metadata": {},
   "outputs": [],
   "source": [
    "# Retrieve counts of page actions \n",
    "event_churn_summary = churn_data.groupBy([\"churn\",\"page\"]).count() \\\n",
    "          .withColumn(\"percentage\", col(\"count\")/ssum(\"count\")\\\n",
    "          .over(Window.partitionBy(\"churn\"))) \\\n",
    "          .sort(\"churn\",\"percentage\", ascending=False)\n",
    "\n",
    "# Filter out Next Song because it will skew the dataset as a heavy percentage.\n",
    "event_churn_summary = event_churn_summary.filter(event_churn_summary[\"page\"] != \"NextSong\")"
   ]
  },
  {
   "cell_type": "code",
   "execution_count": 44,
   "metadata": {},
   "outputs": [
    {
     "data": {
      "image/png": "[encoded data removed]",
      "text/plain": [
       "<matplotlib.figure.Figure at 0x7f1b7aa7d828>"
      ]
     },
     "metadata": {
      "needs_background": "light"
     },
     "output_type": "display_data"
    }
   ],
   "source": [
    "# Convert dataframe to pandas\n",
    "pandas_churn_data = event_churn_summary.toPandas()\n",
    "\n",
    "# Plot Size\n",
    "fig=plt.figure(figsize=(20,10))\n",
    "\n",
    "#Initiate Plot\n",
    "sns.barplot(x=\"page\", y=\"percentage\", hue=\"churn\", data=pandas_churn_data);\n",
    "\n",
    "# X-axis descriptions at 90degrees\n",
    "plt.xticks(rotation=90);\n",
    "\n",
    "# Axis Labelling\n",
    "plt.title(\"Percentage of Events / Churn User\")\n",
    "plt.xlabel(\"Events\")\n",
    "plt.ylabel(\"Percentage of Occurance\")\n",
    "\n",
    "# Turning the y-axis into a percentage rather than decimal\n",
    "plt.gca().set_yticklabels(['{:.0f}%'.format(x*100) for x in plt.gca().get_yticks()]);"
   ]
  },
  {
   "cell_type": "markdown",
   "metadata": {},
   "source": [
    "This plot shows some interesting correlations. It suggests that a user who uses the \"thumbs up\" function is less likely to churn and users who use the \"thumbs down\" function are more likely to churn. Furthermore the biggest difference is between the two sets of users is seen with the \"Roll Advert\" function."
   ]
  },
  {
   "cell_type": "code",
   "execution_count": 45,
   "metadata": {},
   "outputs": [
    {
     "name": "stdout",
     "output_type": "stream",
     "text": [
      "+-----+------+--------+\n",
      "|churn|userId|activity|\n",
      "+-----+------+--------+\n",
      "|  0.0|   135|       6|\n",
      "|  0.0|   156|       6|\n",
      "|  1.0|   125|      10|\n",
      "|  1.0|100011|      22|\n",
      "|  0.0|300003|      34|\n",
      "|  1.0|100024|      36|\n",
      "|  0.0|    22|      40|\n",
      "|  1.0|100006|      44|\n",
      "|  0.0|   133|      44|\n",
      "|  0.0|    90|      45|\n",
      "|  0.0|    68|      48|\n",
      "|  0.0|   134|      52|\n",
      "|  1.0|   122|      61|\n",
      "|  0.0|    64|      66|\n",
      "|  0.0|    34|      72|\n",
      "|  1.0|100017|      75|\n",
      "|  0.0|200007|      76|\n",
      "|  1.0|100003|      77|\n",
      "|  0.0|   116|      79|\n",
      "|  0.0|200012|      83|\n",
      "+-----+------+--------+\n",
      "only showing top 20 rows\n",
      "\n"
     ]
    }
   ],
   "source": [
    "# Count activity by churn user and non churn user\n",
    "activity_count = churn_data.groupBy('churn','userId').agg((typ.countDistinct(typ.col('datetime')))\\\n",
    "                 .alias(\"activity\")).orderBy('activity')\n",
    "activity_count.show()"
   ]
  },
  {
   "cell_type": "code",
   "execution_count": 46,
   "metadata": {},
   "outputs": [
    {
     "data": {
      "text/plain": [
       "Text(0,0.5,'Count')"
      ]
     },
     "execution_count": 46,
     "metadata": {},
     "output_type": "execute_result"
    },
    {
     "data": {
      "image/png": "[encoded data removed]",
      "text/plain": [
       "<matplotlib.figure.Figure at 0x7f1b76b6d160>"
      ]
     },
     "metadata": {
      "needs_background": "light"
     },
     "output_type": "display_data"
    }
   ],
   "source": [
    "# Convert dataframe to pandas\n",
    "activity_count = activity_count.toPandas().sort_values(by='activity', ascending=True)\n",
    "\n",
    "# Plot Size\n",
    "fig=plt.figure(figsize=(20,10))\n",
    "\n",
    "#Initiate Plot\n",
    "sns.barplot(x=\"activity\", y=\"activity\", hue=\"churn\", data=activity_count);\n",
    "\n",
    "# X-axis descriptions at 90degrees\n",
    "plt.xticks(rotation=90);\n",
    "\n",
    "# Axis Labelling\n",
    "plt.title(\"Activty Count / Churn User\")\n",
    "plt.xlabel(\"Activty Count\")\n",
    "plt.ylabel(\"Count\")"
   ]
  },
  {
   "cell_type": "code",
   "execution_count": 47,
   "metadata": {},
   "outputs": [
    {
     "name": "stdout",
     "output_type": "stream",
     "text": [
      "+-----+------+----------------------+\n",
      "|churn|userId|count(DISTINCT artist)|\n",
      "+-----+------+----------------------+\n",
      "|  0.0|    39|                  3544|\n",
      "|  0.0|    92|                  2904|\n",
      "|  0.0|   140|                  2819|\n",
      "|  0.0|300011|                  2491|\n",
      "|  0.0|   124|                  2232|\n",
      "|  0.0|300021|                  2167|\n",
      "|  0.0|    85|                  2124|\n",
      "|  0.0|    42|                  2073|\n",
      "|  0.0|300017|                  2070|\n",
      "|  0.0|     6|                  1868|\n",
      "|  1.0|    29|                  1804|\n",
      "|  0.0|200023|                  1756|\n",
      "|  1.0|    54|                  1744|\n",
      "|  0.0|   100|                  1705|\n",
      "|  0.0|     9|                  1672|\n",
      "|  0.0|   126|                  1643|\n",
      "|  0.0|    91|                  1618|\n",
      "|  0.0|300015|                  1601|\n",
      "|  0.0|    74|                  1557|\n",
      "|  0.0|    98|                  1534|\n",
      "+-----+------+----------------------+\n",
      "only showing top 20 rows\n",
      "\n"
     ]
    }
   ],
   "source": [
    "# Show count of artists and categorise if the user churns during the membership\n",
    "artist_count = churn_data.groupBy(\"churn\", \"userId\")\\\n",
    "    .agg(typ.countDistinct(\"artist\")).sort(\"count(DISTINCT artist)\", ascending=False)\n",
    "artist_count.show()"
   ]
  },
  {
   "cell_type": "code",
   "execution_count": 48,
   "metadata": {},
   "outputs": [
    {
     "name": "stdout",
     "output_type": "stream",
     "text": [
      "+---------------------------+\n",
      "|avg(count(DISTINCT artist))|\n",
      "+---------------------------+\n",
      "|          518.6923076923077|\n",
      "+---------------------------+\n",
      "\n"
     ]
    }
   ],
   "source": [
    "# Average number of artists a churn user listens to\n",
    "artist_count.filter(artist_count['churn'] == 1).agg(avg(col(\"count(DISTINCT artist)\"))).show()"
   ]
  },
  {
   "cell_type": "code",
   "execution_count": 49,
   "metadata": {},
   "outputs": [
    {
     "name": "stdout",
     "output_type": "stream",
     "text": [
      "+---------------------------+\n",
      "|avg(count(DISTINCT artist))|\n",
      "+---------------------------+\n",
      "|          749.7861271676301|\n",
      "+---------------------------+\n",
      "\n"
     ]
    }
   ],
   "source": [
    "# Average number of artists a non-churn user listens to\n",
    "artist_count.filter(artist_count['churn'] == 0).agg(avg(col(\"count(DISTINCT artist)\"))).show()"
   ]
  },
  {
   "cell_type": "markdown",
   "metadata": {},
   "source": [
    "There is a different in average number of artists a churn and non churn listens to however it could show more if we combine the artist and song together and see how this fits."
   ]
  },
  {
   "cell_type": "code",
   "execution_count": 50,
   "metadata": {},
   "outputs": [],
   "source": [
    "# Create new column with concatenating artist and song\n",
    "unique_songs = churn_data.withColumn('uniqueSongsartist', \n",
    "                    typ.concat(typ.col('artist'),typ.lit(','), typ.col('song')))"
   ]
  },
  {
   "cell_type": "code",
   "execution_count": 51,
   "metadata": {},
   "outputs": [
    {
     "name": "stdout",
     "output_type": "stream",
     "text": [
      "+-----+------+-----+\n",
      "|churn|userId|songs|\n",
      "+-----+------+-----+\n",
      "|  0.0|   156|    3|\n",
      "|  0.0|   135|    6|\n",
      "|  1.0|   125|    8|\n",
      "|  1.0|100011|   11|\n",
      "|  1.0|100024|   22|\n",
      "+-----+------+-----+\n",
      "only showing top 5 rows\n",
      "\n"
     ]
    }
   ],
   "source": [
    "# Count unique number of unique artist/songs a user listens to\n",
    "unique_songs_df = unique_songs.groupBy('churn','userId').agg((typ.countDistinct(typ.col('uniqueSongsartist')))\\\n",
    "        .alias(\"songs\")).orderBy('songs')\\\n",
    "        .sort(\"songs\", ascending=True)\n",
    "unique_songs_df.show(5)"
   ]
  },
  {
   "cell_type": "code",
   "execution_count": 52,
   "metadata": {},
   "outputs": [
    {
     "name": "stdout",
     "output_type": "stream",
     "text": [
      "+-----------------+\n",
      "|       avg(songs)|\n",
      "+-----------------+\n",
      "|642.1730769230769|\n",
      "+-----------------+\n",
      "\n"
     ]
    }
   ],
   "source": [
    "# Average number of artists/songs a churn user listens to\n",
    "unique_songs_df.filter(unique_songs_df['churn'] == 1).agg(avg(col(\"songs\"))).show()"
   ]
  },
  {
   "cell_type": "code",
   "execution_count": 53,
   "metadata": {},
   "outputs": [
    {
     "name": "stdout",
     "output_type": "stream",
     "text": [
      "+-----------------+\n",
      "|       avg(songs)|\n",
      "+-----------------+\n",
      "|984.1734104046243|\n",
      "+-----------------+\n",
      "\n"
     ]
    }
   ],
   "source": [
    "# Average number of artists/songs a non-churn user listens to\n",
    "unique_songs_df.filter(unique_songs_df['churn'] == 0).agg(avg(col(\"songs\"))).show()"
   ]
  },
  {
   "cell_type": "markdown",
   "metadata": {},
   "source": [
    "This does show a significant difference, so this feature could be useful in modelling."
   ]
  },
  {
   "cell_type": "code",
   "execution_count": 54,
   "metadata": {},
   "outputs": [
    {
     "name": "stdout",
     "output_type": "stream",
     "text": [
      "+-----+------+------------------+\n",
      "|churn|userId|       avg(length)|\n",
      "+-----+------+------------------+\n",
      "|  0.0|100010|  243.421444909091|\n",
      "|  0.0|200002|242.91699209302323|\n",
      "|  1.0|   125|       261.1391375|\n",
      "|  0.0|   124|248.17653659965666|\n",
      "|  1.0|    51| 247.8805508289908|\n",
      "|  0.0|     7|253.56058066666665|\n",
      "|  0.0|    15|249.37701452978044|\n",
      "|  1.0|    54|250.38539934530132|\n",
      "|  0.0|   155|242.41377060975574|\n",
      "|  1.0|100014| 263.4376345525294|\n",
      "|  0.0|   132|250.58034431535262|\n",
      "|  0.0|   154|245.95266559523813|\n",
      "|  1.0|   101| 249.0061294769059|\n",
      "|  0.0|    11|246.78510516228766|\n",
      "|  0.0|   138|247.56032983574823|\n",
      "|  0.0|300017|247.08341966134319|\n",
      "|  1.0|100021|250.57902452173914|\n",
      "|  1.0|    29|249.18017257925987|\n",
      "|  0.0|    69|254.27913390222233|\n",
      "|  0.0|   112|246.80347251162794|\n",
      "+-----+------+------------------+\n",
      "only showing top 20 rows\n",
      "\n"
     ]
    }
   ],
   "source": [
    "# Calculate the average length of track a user listens to\n",
    "length_avg = churn_data.groupBy(\"churn\", \"userId\")\\\n",
    "    .agg(typ.avg(\"length\"))\n",
    "length_avg.show()"
   ]
  },
  {
   "cell_type": "code",
   "execution_count": 55,
   "metadata": {},
   "outputs": [
    {
     "name": "stdout",
     "output_type": "stream",
     "text": [
      "+------------------+\n",
      "|  avg(avg(length))|\n",
      "+------------------+\n",
      "|248.30786496247958|\n",
      "+------------------+\n",
      "\n"
     ]
    }
   ],
   "source": [
    "# Average length of track a churn user listens to\n",
    "length_avg.filter(length_avg['churn'] == 1).agg(avg(col(\"avg(length)\"))).show()"
   ]
  },
  {
   "cell_type": "code",
   "execution_count": 56,
   "metadata": {},
   "outputs": [
    {
     "name": "stdout",
     "output_type": "stream",
     "text": [
      "+-----------------+\n",
      "| avg(avg(length))|\n",
      "+-----------------+\n",
      "|249.1412535406481|\n",
      "+-----------------+\n",
      "\n"
     ]
    }
   ],
   "source": [
    "# Average length of track a non-churn user listens to\n",
    "length_avg.filter(length_avg['churn'] == 0).agg(avg(col(\"avg(length)\"))).show()"
   ]
  },
  {
   "cell_type": "markdown",
   "metadata": {},
   "source": [
    "The average length of a track shows no difference between users. The length of the track may be useful if we want to see whether or not a user skips during a track or not."
   ]
  },
  {
   "cell_type": "code",
   "execution_count": 57,
   "metadata": {},
   "outputs": [
    {
     "name": "stdout",
     "output_type": "stream",
     "text": [
      "+-----+--------------------+----------------+\n",
      "|churn|           userAgent|count(userAgent)|\n",
      "+-----+--------------------+----------------+\n",
      "|  0.0|\"Mozilla/5.0 (Win...|           18226|\n",
      "|  0.0|\"Mozilla/5.0 (Mac...|           16298|\n",
      "|  0.0|\"Mozilla/5.0 (Mac...|           15914|\n",
      "|  0.0|\"Mozilla/5.0 (Win...|           15237|\n",
      "|  0.0|Mozilla/5.0 (Wind...|           15224|\n",
      "|  0.0|\"Mozilla/5.0 (Mac...|           14875|\n",
      "|  0.0|\"Mozilla/5.0 (Win...|           12823|\n",
      "|  0.0|\"Mozilla/5.0 (iPa...|            8912|\n",
      "|  0.0|Mozilla/5.0 (comp...|            8624|\n",
      "|  0.0|Mozilla/5.0 (Maci...|            7838|\n",
      "|  0.0|\"Mozilla/5.0 (Mac...|            7638|\n",
      "|  0.0|\"Mozilla/5.0 (Win...|            6531|\n",
      "|  0.0|\"Mozilla/5.0 (Mac...|            6165|\n",
      "|  0.0|\"Mozilla/5.0 (Mac...|            5716|\n",
      "|  0.0|\"Mozilla/5.0 (Win...|            5553|\n",
      "|  0.0|\"Mozilla/5.0 (iPh...|            5407|\n",
      "|  0.0|\"Mozilla/5.0 (Win...|            5238|\n",
      "|  0.0|Mozilla/5.0 (Wind...|            4925|\n",
      "|  1.0|\"Mozilla/5.0 (Mac...|            4736|\n",
      "|  1.0|\"Mozilla/5.0 (Win...|            4525|\n",
      "+-----+--------------------+----------------+\n",
      "only showing top 20 rows\n",
      "\n"
     ]
    }
   ],
   "source": [
    "# Create column to count type of user agent against whether the user is a churn user or not\n",
    "userAgent_count = churn_data.groupBy(\"churn\", \"userAgent\")\\\n",
    "    .agg(typ.count(\"userAgent\")).sort(\"count(userAgent)\", ascending=False)\n",
    "userAgent_count.show()"
   ]
  },
  {
   "cell_type": "code",
   "execution_count": 58,
   "metadata": {},
   "outputs": [
    {
     "data": {
      "text/plain": [
       "Text(0,0.5,'Count of Occurance')"
      ]
     },
     "execution_count": 58,
     "metadata": {},
     "output_type": "execute_result"
    },
    {
     "data": {
      "image/png": "[encoded data removed]",
      "text/plain": [
       "<matplotlib.figure.Figure at 0x7f1b7edd50b8>"
      ]
     },
     "metadata": {
      "needs_background": "light"
     },
     "output_type": "display_data"
    }
   ],
   "source": [
    "# Convert dataframe to pandas\n",
    "userAgent_count = userAgent_count.toPandas()\n",
    "\n",
    "# Plot Size\n",
    "fig=plt.figure(figsize=(20,10))\n",
    "\n",
    "#Initiate Plot\n",
    "sns.barplot(x=\"userAgent\", y=\"count(userAgent)\", hue=\"churn\", data=userAgent_count);\n",
    "\n",
    "# X-axis descriptions at 90degrees\n",
    "plt.xticks(rotation=90);\n",
    "\n",
    "# Axis Labelling\n",
    "plt.title(\"userAgent Occurance\")\n",
    "plt.xlabel(\"userAgent\")\n",
    "plt.ylabel(\"Count of Occurance\")"
   ]
  },
  {
   "cell_type": "markdown",
   "metadata": {},
   "source": [
    "This also shows that some useragents the there are more likely to get users which will churn. There are however some userAgents which have a 100% churn rate. This could possibly bias the model so i will initially leave this feature out."
   ]
  },
  {
   "cell_type": "markdown",
   "metadata": {},
   "source": [
    "### Summary\n",
    "In summary, there were 7 features which appear most relevant or have visible connections to suggesting a user would cancel their subscription (including the churn feature as the label). These will be the features i will engineer to prepare for the modelling:\n",
    "\n",
    "- User Churn\n",
    "- Gender\n",
    "- Subscription Type (Paid vs Free)\n",
    "- Event - Roll Adverts\n",
    "- Event - Thumbs Down\n",
    "- Event - Thumbs Up\n",
    "- Sum of number of unique songs / artists"
   ]
  },
  {
   "cell_type": "markdown",
   "metadata": {},
   "source": [
    "# Feature Engineering\n",
    "Once you've familiarized yourself with the data, build out the features you find promising to train your model on. To work with the full dataset, you can follow the following steps.\n",
    "- Write a script to extract the necessary features from the smaller subset of data\n",
    "- Ensure that your script is scalable, using the best practices discussed in Lesson 3\n",
    "- Try your script on the full data set, debugging your script if necessary\n",
    "\n",
    "If you are working in the classroom workspace, you can just extract features based on the small subset of data contained here. Be sure to transfer over this work to the larger dataset when you work on your Spark cluster."
   ]
  },
  {
   "cell_type": "code",
   "execution_count": 59,
   "metadata": {},
   "outputs": [],
   "source": [
    "def feature_engineering(df):\n",
    "\n",
    "    '''\n",
    "    Prepare dataset and engineer features for modelling\n",
    "    Input - df - dataframe from sparkify\n",
    "    Output - df - prepared dataframe for modelling\n",
    "\n",
    "    '''\n",
    "    \n",
    "    # Clean initial dataset\n",
    "    cleaned_df = df.filter(df[\"userId\"] != \"\")\n",
    "    cleaned_df = cleaned_df.dropDuplicates()\n",
    "\n",
    "    # Define Churn iteration\n",
    "    churn = udf(lambda x: 1 if x == \"Cancellation Confirmation\" else 0)\n",
    "    # Add churn user column as label\n",
    "    churn_df = cleaned_df.withColumn(\"label\", churn(\"page\"))\n",
    "    window = Window.partitionBy(\"userId\").orderBy(desc(\"ts\")).rangeBetween(Window.unboundedPreceding, 0)\n",
    "    churn_df = churn_df.withColumn(\"label\", ssum(\"label\").over(window))\n",
    "    churn_df = churn_df.select(\"userId\", \"label\",\"gender\")\n",
    "    churn_df = churn_df.dropDuplicates()\n",
    "    churn_df = churn_df.filter(df[\"userId\"] != \"\")\n",
    "\n",
    "    # Find the subscription type from the level column\n",
    "    subscription = cleaned_df.select(col(\"userId\"), last(\"level\")\\\n",
    "                   .over(Window.partitionBy([\"userId\"])).alias(\"level\"),\\\n",
    "                   col(\"userId\")).dropDuplicates()\n",
    "    # Add to new dataframe\n",
    "    churn_df = subscription.join(churn_df, \"userId\", \"left\")\n",
    "    \n",
    "    # Count the thumbs up activity per userId\n",
    "    thumbs_up_count = cleaned_df.filter(cleaned_df.page == \"Thumbs Up\").groupby(\"userId\").count()\n",
    "    churn_df = churn_df.join(thumbs_up_count, \"userId\", \"left\")\n",
    "    churn_df = churn_df.fillna(0, [\"count\"])\n",
    "    churn_df = churn_df.withColumnRenamed(\"count\", \"ThumbsUpCount\")\n",
    "\n",
    "    # Count the thumbs down activity per userId\n",
    "    thumbs_down_count = cleaned_df.filter(cleaned_df.page == \"Thumbs Down\").groupby(\"userId\").count()\n",
    "    churn_df = churn_df.join(thumbs_down_count, \"userId\", \"left\")\n",
    "    churn_df = churn_df.fillna(0, [\"count\"])\n",
    "    churn_df = churn_df.withColumnRenamed(\"count\", \"ThumbsDownCount\")\n",
    "\n",
    "    # Count the Adverts seen per userId\n",
    "    roll_advert = cleaned_df.filter(cleaned_df.page == \"Roll Advert\").groupby(\"userId\").count()\n",
    "    churn_df = churn_df.join(roll_advert, \"userId\", \"left\")\n",
    "    churn_df = churn_df.fillna(0, [\"count\"])\n",
    "    churn_df = churn_df.withColumnRenamed(\"count\", \"RollAdvertCount\")\n",
    "\n",
    "    # Define the unique songs/artist column\n",
    "    unique_songs = cleaned_df.withColumn('uniqueSongsArtist', \n",
    "                   typ.concat(typ.col('artist'),typ.lit(','), typ.col('song')))\n",
    "\n",
    "    # Count the unique songs/artist per userId\n",
    "    unique_songs_df = unique_songs.groupBy('userId').agg((typ.countDistinct(typ.col('uniqueSongsartist')))\\\n",
    "                      .alias(\"uniqueSongsArtist\"))\n",
    "    # Add to new dataframe\n",
    "    df = churn_df.join(unique_songs_df, \"userId\", \"left\")\n",
    "\n",
    "    # Define iteration to convert to numeric values   \n",
    "    gender_to_numeric = udf(lambda x: 1 if x == \"M\" else 0)\n",
    "    level_to_numeric = udf(lambda x: 1 if x == \"free\" else 0)\n",
    "    \n",
    "    # Run iteration and on gender and level columns      \n",
    "    df = df.withColumn(\"gender\", gender_to_numeric(\"gender\"))\n",
    "    df = df.withColumn(\"level\", level_to_numeric(\"level\"))\n",
    "    \n",
    "    \n",
    "    # String indexer to convert string to numeric \n",
    "    indexer_gender = StringIndexer(inputCol=\"gender\", outputCol=\"genderNumeric\")\n",
    "    df = indexer_gender.fit(df).transform(df)    \n",
    "    indexer_level = StringIndexer(inputCol=\"level\", outputCol=\"levelNumeric\")\n",
    "    df = indexer_level.fit(df).transform(df)\n",
    "    \n",
    "    return df"
   ]
  },
  {
   "cell_type": "code",
   "execution_count": 60,
   "metadata": {},
   "outputs": [],
   "source": [
    "# Run function\n",
    "modelling_df = feature_engineering(df)"
   ]
  },
  {
   "cell_type": "code",
   "execution_count": 61,
   "metadata": {},
   "outputs": [
    {
     "name": "stdout",
     "output_type": "stream",
     "text": [
      "+------+-----+-----+------+-------------+---------------+---------------+-----------------+-------------+------------+\n",
      "|userId|level|label|gender|ThumbsUpCount|ThumbsDownCount|RollAdvertCount|uniqueSongsArtist|genderNumeric|levelNumeric|\n",
      "+------+-----+-----+------+-------------+---------------+---------------+-----------------+-------------+------------+\n",
      "|100010|    1|  0.0|     0|           17|              5|             52|              270|          1.0|         1.0|\n",
      "|200002|    0|  0.0|     1|           21|              6|              7|              378|          0.0|         0.0|\n",
      "|   125|    1|  1.0|     1|            0|              0|              1|                8|          0.0|         1.0|\n",
      "|   124|    0|  0.0|     0|          171|             41|              4|             3392|          1.0|         0.0|\n",
      "|    51|    0|  1.0|     1|          100|             21|              0|             1868|          0.0|         0.0|\n",
      "+------+-----+-----+------+-------------+---------------+---------------+-----------------+-------------+------------+\n",
      "only showing top 5 rows\n",
      "\n"
     ]
    }
   ],
   "source": [
    "# Show dataset\n",
    "modelling_df.show(5)"
   ]
  },
  {
   "cell_type": "code",
   "execution_count": 62,
   "metadata": {},
   "outputs": [
    {
     "data": {
      "text/plain": [
       "225"
      ]
     },
     "execution_count": 62,
     "metadata": {},
     "output_type": "execute_result"
    }
   ],
   "source": [
    "# Count number of rows to validate users\n",
    "modelling_df.count()"
   ]
  },
  {
   "cell_type": "code",
   "execution_count": 63,
   "metadata": {},
   "outputs": [
    {
     "name": "stdout",
     "output_type": "stream",
     "text": [
      "root\n",
      " |-- userId: string (nullable = true)\n",
      " |-- level: string (nullable = true)\n",
      " |-- label: double (nullable = true)\n",
      " |-- gender: string (nullable = true)\n",
      " |-- ThumbsUpCount: long (nullable = true)\n",
      " |-- ThumbsDownCount: long (nullable = true)\n",
      " |-- RollAdvertCount: long (nullable = true)\n",
      " |-- uniqueSongsArtist: long (nullable = true)\n",
      " |-- genderNumeric: double (nullable = false)\n",
      " |-- levelNumeric: double (nullable = false)\n",
      "\n"
     ]
    }
   ],
   "source": [
    "# Review dataframe structure\n",
    "modelling_df.printSchema()"
   ]
  },
  {
   "cell_type": "code",
   "execution_count": 64,
   "metadata": {},
   "outputs": [],
   "source": [
    "# Define vector transformation features\n",
    "vector_assemble = VectorAssembler(inputCols=[\"levelNumeric\", \"genderNumeric\", \"ThumbsUpCount\" \\\n",
    "                  , \"ThumbsDownCount\", \"RollAdvertCount\", \"uniqueSongsArtist\"], outputCol=\"features\")"
   ]
  },
  {
   "cell_type": "code",
   "execution_count": 65,
   "metadata": {},
   "outputs": [],
   "source": [
    "# Scaling the vectors\n",
    "scaler = StandardScaler(inputCol=\"features\", outputCol=\"scaledfeatures\")"
   ]
  },
  {
   "cell_type": "markdown",
   "metadata": {},
   "source": [
    "# Modeling\n",
    "Split the full dataset into train, test, and validation sets. Test out several of the machine learning methods you learned. Evaluate the accuracy of the various models, tuning parameters as necessary. Determine your winning model based on test accuracy and report results on the validation set. Since the churned users are a fairly small subset, I suggest using F1 score as the metric to optimize."
   ]
  },
  {
   "cell_type": "code",
   "execution_count": 66,
   "metadata": {},
   "outputs": [
    {
     "data": {
      "text/plain": [
       "(146, 79)"
      ]
     },
     "execution_count": 66,
     "metadata": {},
     "output_type": "execute_result"
    }
   ],
   "source": [
    "# Split the dataset into train and test sets\n",
    "training, test = modelling_df.randomSplit([0.7, 0.3]);\n",
    "training.count(), test.count()"
   ]
  },
  {
   "cell_type": "code",
   "execution_count": 67,
   "metadata": {},
   "outputs": [],
   "source": [
    "# Building Pipeline - Logistic Regression\n",
    "lr = LogisticRegression(featuresCol=\"scaledfeatures\", labelCol=\"label\", maxIter=10, regParam=0.01)\n",
    "pipeline_lr = Pipeline(stages=[vector_assemble, scaler, lr])"
   ]
  },
  {
   "cell_type": "code",
   "execution_count": 68,
   "metadata": {},
   "outputs": [],
   "source": [
    "# Fit model\n",
    "model_lr = pipeline_lr.fit(training)"
   ]
  },
  {
   "cell_type": "code",
   "execution_count": 69,
   "metadata": {},
   "outputs": [],
   "source": [
    "# Function to print results as accuracy and f1 score\n",
    "\n",
    "def print_results(model, test):\n",
    "    \n",
    "    '''\n",
    "    Function to print accuracy and f1 score results for each model\n",
    "\n",
    "    Input: model = model used. test = test data set\n",
    "    Output: print statement of accuracy and f1 score\n",
    "\n",
    "    '''\n",
    "\n",
    "    accuracy = MulticlassClassificationEvaluator(metricName = 'accuracy')\n",
    "    prediction = model.transform(test)\n",
    "    accuracy = (accuracy.evaluate(prediction)*100)\n",
    "\n",
    "    f1 = MulticlassClassificationEvaluator(metricName = 'f1')\n",
    "    prediction = model.transform(test)\n",
    "    f1 = (f1.evaluate(prediction)*100)\n",
    "    print(\"Accuracy = \",accuracy,\"%\", \"F1 = \",f1,\"%\")\n",
    "\n",
    "    #return accuracy,f1"
   ]
  },
  {
   "cell_type": "code",
   "execution_count": 70,
   "metadata": {},
   "outputs": [
    {
     "name": "stdout",
     "output_type": "stream",
     "text": [
      "Accuracy =  72.15189873417721 % F1 =  62.602382725242 %\n"
     ]
    }
   ],
   "source": [
    "print_results(model_lr,test)"
   ]
  },
  {
   "cell_type": "code",
   "execution_count": 71,
   "metadata": {},
   "outputs": [],
   "source": [
    "# Tune parameters - Logistic Regression\n",
    "paramGrid = ParamGridBuilder() \\\n",
    "    .addGrid(lr.regParam,[0.0, 0.1]) \\\n",
    "    .build()\n",
    "\n",
    "crossval = CrossValidator(estimator=pipeline_lr,\n",
    "                          estimatorParamMaps=paramGrid,\n",
    "                          evaluator=MulticlassClassificationEvaluator(),\n",
    "                          numFolds=3)"
   ]
  },
  {
   "cell_type": "code",
   "execution_count": 72,
   "metadata": {},
   "outputs": [],
   "source": [
    "# Fit tuned model\n",
    "lr_tuned = crossval.fit(training)"
   ]
  },
  {
   "cell_type": "code",
   "execution_count": 73,
   "metadata": {},
   "outputs": [
    {
     "name": "stdout",
     "output_type": "stream",
     "text": [
      "Accuracy =  72.15189873417721 % F1 =  64.53177152213615 %\n"
     ]
    }
   ],
   "source": [
    "print_results(lr_tuned,test)"
   ]
  },
  {
   "cell_type": "code",
   "execution_count": 80,
   "metadata": {},
   "outputs": [],
   "source": [
    "# Building Pipeline - Random Forest\n",
    "rf = RandomForestClassifier(featuresCol=\"scaledfeatures\", labelCol=\"label\")\n",
    "pipeline_rf = Pipeline(stages=[vector_assemble, scaler, rf])"
   ]
  },
  {
   "cell_type": "code",
   "execution_count": 75,
   "metadata": {},
   "outputs": [],
   "source": [
    "# Fit model\n",
    "model_rf = pipeline_rf.fit(training)"
   ]
  },
  {
   "cell_type": "code",
   "execution_count": 76,
   "metadata": {},
   "outputs": [
    {
     "name": "stdout",
     "output_type": "stream",
     "text": [
      "Accuracy =  73.41772151898735 % F1 =  65.26753500886686 %\n"
     ]
    }
   ],
   "source": [
    "# Print Results\n",
    "print_results(model_rf,test)"
   ]
  },
  {
   "cell_type": "code",
   "execution_count": 83,
   "metadata": {},
   "outputs": [],
   "source": [
    "# Tune parameters - Random Forest\n",
    "\n",
    "paramGrid=ParamGridBuilder().addGrid(rf.maxDepth, [5, 10, 15]).build()\n",
    "crossval = CrossValidator(estimator=pipeline_rf,\n",
    "                          estimatorParamMaps=paramGrid,\n",
    "                          evaluator=MulticlassClassificationEvaluator(),\n",
    "                          numFolds=3)"
   ]
  },
  {
   "cell_type": "code",
   "execution_count": 84,
   "metadata": {},
   "outputs": [],
   "source": [
    "# Fit tuned model\n",
    "rf_tuned = crossval.fit(training)"
   ]
  },
  {
   "cell_type": "code",
   "execution_count": 85,
   "metadata": {},
   "outputs": [
    {
     "name": "stdout",
     "output_type": "stream",
     "text": [
      "Accuracy =  75.9493670886076 % F1 =  70.09041591320072 %\n"
     ]
    }
   ],
   "source": [
    "# Print Results\n",
    "print_results(rf_tuned,test)"
   ]
  },
  {
   "cell_type": "markdown",
   "metadata": {},
   "source": [
    "# Final Steps\n",
    "Clean up your code, adding comments and renaming variables to make the code easier to read and maintain. Refer to the Spark Project Overview page and Data Scientist Capstone Project Rubric to make sure you are including all components of the capstone project and meet all expectations. Remember, this includes thorough documentation in a README file in a Github repository, as well as a web app or blog post."
   ]
  },
  {
   "cell_type": "code",
   "execution_count": null,
   "metadata": {},
   "outputs": [],
   "source": []
  }
 ],
 "metadata": {
  "kernelspec": {
   "display_name": "Python 3",
   "language": "python",
   "name": "python3"
  },
  "language_info": {
   "codemirror_mode": {
    "name": "ipython",
    "version": 3
   },
   "file_extension": ".py",
   "mimetype": "text/x-python",
   "name": "python",
   "nbconvert_exporter": "python",
   "pygments_lexer": "ipython3",
   "version": "3.6.3"
  }
 },
 "nbformat": 4,
 "nbformat_minor": 2
}
